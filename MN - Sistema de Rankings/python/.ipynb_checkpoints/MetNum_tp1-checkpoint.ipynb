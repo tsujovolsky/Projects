{
 "cells": [
  {
   "cell_type": "markdown",
   "metadata": {},
   "source": [
    "# Métodos Numéricos - TP1\n",
    "---"
   ]
  },
  {
   "cell_type": "markdown",
   "metadata": {},
   "source": [
    "## 1) Preparamos el ambiente"
   ]
  },
  {
   "cell_type": "code",
   "execution_count": 1,
   "metadata": {
    "colab": {},
    "colab_type": "code",
    "id": "uPQc8zkts5X3"
   },
   "outputs": [],
   "source": [
    "import os\n",
    "from graphviz import Digraph\n",
    "\n",
    "import numpy as np\n",
    "import pandas as pd\n",
    "import matplotlib.pyplot as plt\n",
    "import seaborn as sns\n",
    "\n",
    "import subprocess\n",
    "from run_methods import *"
   ]
  },
  {
   "cell_type": "code",
   "execution_count": 2,
   "metadata": {},
   "outputs": [],
   "source": [
    "if not os.path.exists(temp_path):\n",
    "    os.makedirs(temp_path)\n",
    "if not os.path.exists(img_path):\n",
    "    os.makedirs(img_path)\n",
    "if not os.path.exists(csv_path):\n",
    "    os.makedirs(csv_path)\n",
    "# Tambien se requiere tener el tp compilado"
   ]
  },
  {
   "cell_type": "markdown",
   "metadata": {
    "colab_type": "text",
    "id": "MXAEryxZvukH"
   },
   "source": [
    "## 2) Levantamos los datos de la NBA"
   ]
  },
  {
   "cell_type": "code",
   "execution_count": 3,
   "metadata": {
    "colab": {
     "base_uri": "https://localhost:8080/",
     "height": 419
    },
    "colab_type": "code",
    "id": "lbROeGW5vNKv",
    "outputId": "05f2e858-75ab-46a6-e8e9-f70f3af5dcb4"
   },
   "outputs": [],
   "source": [
    "columns = [\"code\", \"date\", \"team 1\", \"local\", \"score 1\", \"team 2\", \"visitor\", \"score 2\"]\n",
    "\n",
    "nba_raw = pd.read_csv(\n",
    "    os.path.join(data_path, \"nba_2016_scores.csv\"), \n",
    "    names = columns)\n",
    "\n",
    "nba = nba_raw.drop(columns = [\"code\", \"local\", \"visitor\"])"
   ]
  },
  {
   "cell_type": "code",
   "execution_count": 4,
   "metadata": {},
   "outputs": [],
   "source": [
    "teams_amount = len(nba[\"team 1\"].unique())\n",
    "matches_amount = len(nba['team 1'])"
   ]
  },
  {
   "cell_type": "code",
   "execution_count": 5,
   "metadata": {},
   "outputs": [],
   "source": [
    "nba.to_csv(\n",
    "    path_or_buf=os.path.join(temp_path, \"nba.in\"), \n",
    "    sep = \" \", \n",
    "    index= False, \n",
    "    header = [str(teams_amount), str(matches_amount), \"\", \"\", \"\"])"
   ]
  },
  {
   "cell_type": "markdown",
   "metadata": {},
   "source": [
    "## 3) Generamos los rankings"
   ]
  },
  {
   "cell_type": "code",
   "execution_count": 6,
   "metadata": {
    "colab": {},
    "colab_type": "code",
    "id": "4goIldyE22iq"
   },
   "outputs": [],
   "source": [
    "nba_input = os.path.join(temp_path, 'nba.in')\n",
    "run_all(nba_input)"
   ]
  },
  {
   "cell_type": "markdown",
   "metadata": {},
   "source": [
    "## 4.a) Colley"
   ]
  },
  {
   "cell_type": "code",
   "execution_count": 7,
   "metadata": {
    "scrolled": true
   },
   "outputs": [],
   "source": [
    "nba_colley_ranking = build_nba_dataframe(nba_input, 'colley')"
   ]
  },
  {
   "cell_type": "markdown",
   "metadata": {},
   "source": [
    "### 4.a.I) Error absoluto de Colley (Implementacion C++ vs Numpy)"
   ]
  },
  {
   "cell_type": "code",
   "execution_count": 8,
   "metadata": {},
   "outputs": [],
   "source": [
    "colley_matrix_file = open(os.path.join('matrix_error', 'colley-matrix.txt'))\n",
    "i = 0\n",
    "colley_matrix = []\n",
    "for line in colley_matrix_file:\n",
    "    if i < 30:\n",
    "        colley_matrix.append([each.strip() for each in line.split('|') if each.strip() != ''])\n",
    "    else:\n",
    "        colley_results = [each.strip() for each in line.split('|') if each.strip() != '']\n",
    "    i = i+1\n",
    "colley_matrix_file.close()"
   ]
  },
  {
   "cell_type": "code",
   "execution_count": 9,
   "metadata": {},
   "outputs": [
    {
     "data": {
      "text/plain": [
       "array([0.55882185, 0.56568988, 0.29073557, 0.55822439, 0.51600656,\n",
       "       0.69242825, 0.50217823, 0.42085819, 0.50025046, 0.87406269,\n",
       "       0.51132718, 0.54796182, 0.6297079 , 0.2367217 , 0.5631763 ,\n",
       "       0.57736691, 0.43502499, 0.31998445, 0.38452079, 0.4143932 ,\n",
       "       0.65555249, 0.43224435, 0.15081345, 0.29895223, 0.51594072,\n",
       "       0.41281708, 0.8039757 , 0.65934691, 0.48720649, 0.48370928])"
      ]
     },
     "execution_count": 9,
     "metadata": {},
     "output_type": "execute_result"
    }
   ],
   "source": [
    "# Cr = b\n",
    "\n",
    "C = np.row_stack(colley_matrix)\n",
    "C = C.astype(np.float64)\n",
    "b = np.array(colley_results)\n",
    "b = b.astype(np.float64)\n",
    "r = np.linalg.solve(C, b)\n",
    "\n",
    "C @ r == b\n",
    "r"
   ]
  },
  {
   "cell_type": "code",
   "execution_count": 10,
   "metadata": {
    "scrolled": true
   },
   "outputs": [
    {
     "data": {
      "text/plain": [
       "True"
      ]
     },
     "execution_count": 10,
     "metadata": {},
     "output_type": "execute_result"
    }
   ],
   "source": [
    "colley_ranking_file = open(os.path.join('matrix_error', 'colley.out'))\n",
    "colley_ranking = [np.float64(each_ranking) for each_ranking in colley_ranking_file]\n",
    "colley_ranking_file.close()\n",
    "result = True\n",
    "for i in range(0,30):\n",
    "    result = result and (abs(r[i]-colley_ranking[i]) < pow(10,-14))\n",
    "result"
   ]
  },
  {
   "cell_type": "markdown",
   "metadata": {},
   "source": [
    "## 4.b) W/P method"
   ]
  },
  {
   "cell_type": "code",
   "execution_count": 11,
   "metadata": {
    "scrolled": true
   },
   "outputs": [],
   "source": [
    "nba_wp_ranking = build_nba_dataframe(nba_input, 'wp')"
   ]
  },
  {
   "cell_type": "markdown",
   "metadata": {},
   "source": [
    "## 4.c) Massey method"
   ]
  },
  {
   "cell_type": "code",
   "execution_count": 12,
   "metadata": {
    "scrolled": true
   },
   "outputs": [],
   "source": [
    "nba_massey_ranking = build_nba_dataframe(nba_input, 'massey')"
   ]
  },
  {
   "cell_type": "markdown",
   "metadata": {},
   "source": [
    "### 4.c.I) Error absoluto de Massey (Implementacion C++ vs Numpy)"
   ]
  },
  {
   "cell_type": "code",
   "execution_count": 13,
   "metadata": {},
   "outputs": [],
   "source": [
    "massey_matrix_file = open(os.path.join('matrix_error', 'massey-matrix.txt'))\n",
    "i = 0\n",
    "massey_matrix = []\n",
    "for line in massey_matrix_file:\n",
    "    if i < 30:\n",
    "        massey_matrix.append([each.strip() for each in line.split('|') if each.strip() != ''])\n",
    "    else:\n",
    "        massey_results = [each.strip() for each in line.split('|') if each.strip() != '']\n",
    "    i = i+1\n",
    "massey_matrix_file.close()"
   ]
  },
  {
   "cell_type": "code",
   "execution_count": 14,
   "metadata": {},
   "outputs": [
    {
     "data": {
      "text/plain": [
       "array([  3.20597524,   3.53627894,  -6.20287943,   2.08557463,\n",
       "        -0.97385581,   5.75538952,  -0.41184287,  -1.97541075,\n",
       "         0.22470846,  10.29953033,  -0.38848892,   1.76233278,\n",
       "         3.71400911,  -8.21358021,  -1.71187857,   1.0495279 ,\n",
       "        -3.46616327,  -4.08437793,  -2.9920826 ,  -2.2384224 ,\n",
       "         6.4688218 ,  -2.16039444, -10.43090743,  -6.42425851,\n",
       "         0.65853612,  -2.11602849,  11.22958986,   3.92961243,\n",
       "         1.12433422,  -1.2536497 ])"
      ]
     },
     "execution_count": 14,
     "metadata": {},
     "output_type": "execute_result"
    }
   ],
   "source": [
    "# Cr = b\n",
    "\n",
    "M = np.row_stack(massey_matrix)\n",
    "M = M.astype(np.float64)\n",
    "p = np.array(massey_results)\n",
    "p = p.astype(np.float64)\n",
    "x = np.linalg.solve(M, p)\n",
    "\n",
    "M @ x == p\n",
    "x"
   ]
  },
  {
   "cell_type": "code",
   "execution_count": 15,
   "metadata": {
    "scrolled": false
   },
   "outputs": [
    {
     "data": {
      "text/plain": [
       "True"
      ]
     },
     "execution_count": 15,
     "metadata": {},
     "output_type": "execute_result"
    }
   ],
   "source": [
    "massey_ranking_file = open(os.path.join('matrix_error', 'massey.out'))\n",
    "massey_ranking = [np.float64(each_ranking) for each_ranking in massey_ranking_file]\n",
    "massey_ranking_file.close()\n",
    "result = True\n",
    "for i in range(0,30):\n",
    "    result = result and (abs(x[i]-massey_ranking[i]) < pow(10,-14))\n",
    "result"
   ]
  },
  {
   "cell_type": "markdown",
   "metadata": {},
   "source": [
    "## 5) Tabla de Todos los rankings juntos"
   ]
  },
  {
   "cell_type": "code",
   "execution_count": 16,
   "metadata": {
    "scrolled": true
   },
   "outputs": [
    {
     "data": {
      "text/html": [
       "<div>\n",
       "<style scoped>\n",
       "    .dataframe tbody tr th:only-of-type {\n",
       "        vertical-align: middle;\n",
       "    }\n",
       "\n",
       "    .dataframe tbody tr th {\n",
       "        vertical-align: top;\n",
       "    }\n",
       "\n",
       "    .dataframe thead th {\n",
       "        text-align: right;\n",
       "    }\n",
       "</style>\n",
       "<table border=\"1\" class=\"dataframe\">\n",
       "  <thead>\n",
       "    <tr style=\"text-align: right;\">\n",
       "      <th></th>\n",
       "      <th>conference</th>\n",
       "      <th>colley_ranking</th>\n",
       "      <th>wp_ranking</th>\n",
       "      <th>massey_ranking</th>\n",
       "    </tr>\n",
       "    <tr>\n",
       "      <th>team</th>\n",
       "      <th></th>\n",
       "      <th></th>\n",
       "      <th></th>\n",
       "      <th></th>\n",
       "    </tr>\n",
       "  </thead>\n",
       "  <tbody>\n",
       "    <tr>\n",
       "      <th>Golden_State</th>\n",
       "      <td>W</td>\n",
       "      <td>0.874063</td>\n",
       "      <td>0.909091</td>\n",
       "      <td>10.299530</td>\n",
       "    </tr>\n",
       "    <tr>\n",
       "      <th>San_Antonio</th>\n",
       "      <td>W</td>\n",
       "      <td>0.803976</td>\n",
       "      <td>0.850746</td>\n",
       "      <td>11.229590</td>\n",
       "    </tr>\n",
       "    <tr>\n",
       "      <th>Cleveland</th>\n",
       "      <td>E</td>\n",
       "      <td>0.692428</td>\n",
       "      <td>0.712121</td>\n",
       "      <td>5.755390</td>\n",
       "    </tr>\n",
       "    <tr>\n",
       "      <th>Toronto</th>\n",
       "      <td>E</td>\n",
       "      <td>0.659347</td>\n",
       "      <td>0.681818</td>\n",
       "      <td>3.929612</td>\n",
       "    </tr>\n",
       "    <tr>\n",
       "      <th>Oklahoma_City</th>\n",
       "      <td>W</td>\n",
       "      <td>0.655552</td>\n",
       "      <td>0.671642</td>\n",
       "      <td>6.468822</td>\n",
       "    </tr>\n",
       "    <tr>\n",
       "      <th>LA_Clippers</th>\n",
       "      <td>W</td>\n",
       "      <td>0.629708</td>\n",
       "      <td>0.636364</td>\n",
       "      <td>3.714009</td>\n",
       "    </tr>\n",
       "    <tr>\n",
       "      <th>Miami</th>\n",
       "      <td>E</td>\n",
       "      <td>0.577367</td>\n",
       "      <td>0.582090</td>\n",
       "      <td>1.049528</td>\n",
       "    </tr>\n",
       "    <tr>\n",
       "      <th>Boston</th>\n",
       "      <td>E</td>\n",
       "      <td>0.565690</td>\n",
       "      <td>0.582090</td>\n",
       "      <td>3.536279</td>\n",
       "    </tr>\n",
       "    <tr>\n",
       "      <th>Memphis</th>\n",
       "      <td>W</td>\n",
       "      <td>0.563176</td>\n",
       "      <td>0.582090</td>\n",
       "      <td>-1.711879</td>\n",
       "    </tr>\n",
       "    <tr>\n",
       "      <th>Atlanta</th>\n",
       "      <td>E</td>\n",
       "      <td>0.558822</td>\n",
       "      <td>0.567164</td>\n",
       "      <td>3.205975</td>\n",
       "    </tr>\n",
       "    <tr>\n",
       "      <th>Charlotte</th>\n",
       "      <td>E</td>\n",
       "      <td>0.558224</td>\n",
       "      <td>0.560606</td>\n",
       "      <td>2.085575</td>\n",
       "    </tr>\n",
       "    <tr>\n",
       "      <th>Indiana</th>\n",
       "      <td>E</td>\n",
       "      <td>0.547962</td>\n",
       "      <td>0.537313</td>\n",
       "      <td>1.762333</td>\n",
       "    </tr>\n",
       "    <tr>\n",
       "      <th>Portland</th>\n",
       "      <td>W</td>\n",
       "      <td>0.515941</td>\n",
       "      <td>0.514706</td>\n",
       "      <td>0.658536</td>\n",
       "    </tr>\n",
       "    <tr>\n",
       "      <th>Chicago</th>\n",
       "      <td>E</td>\n",
       "      <td>0.516007</td>\n",
       "      <td>0.507692</td>\n",
       "      <td>-0.973856</td>\n",
       "    </tr>\n",
       "    <tr>\n",
       "      <th>Detroit</th>\n",
       "      <td>E</td>\n",
       "      <td>0.500250</td>\n",
       "      <td>0.507463</td>\n",
       "      <td>0.224708</td>\n",
       "    </tr>\n",
       "    <tr>\n",
       "      <th>Houston</th>\n",
       "      <td>W</td>\n",
       "      <td>0.511327</td>\n",
       "      <td>0.507463</td>\n",
       "      <td>-0.388489</td>\n",
       "    </tr>\n",
       "    <tr>\n",
       "      <th>Dallas</th>\n",
       "      <td>W</td>\n",
       "      <td>0.502178</td>\n",
       "      <td>0.507463</td>\n",
       "      <td>-0.411843</td>\n",
       "    </tr>\n",
       "    <tr>\n",
       "      <th>Utah</th>\n",
       "      <td>W</td>\n",
       "      <td>0.487206</td>\n",
       "      <td>0.477612</td>\n",
       "      <td>1.124334</td>\n",
       "    </tr>\n",
       "    <tr>\n",
       "      <th>Washington</th>\n",
       "      <td>E</td>\n",
       "      <td>0.483709</td>\n",
       "      <td>0.469697</td>\n",
       "      <td>-1.253650</td>\n",
       "    </tr>\n",
       "    <tr>\n",
       "      <th>Orlando</th>\n",
       "      <td>E</td>\n",
       "      <td>0.432244</td>\n",
       "      <td>0.439394</td>\n",
       "      <td>-2.160394</td>\n",
       "    </tr>\n",
       "    <tr>\n",
       "      <th>Milwaukee</th>\n",
       "      <td>E</td>\n",
       "      <td>0.435025</td>\n",
       "      <td>0.426471</td>\n",
       "      <td>-3.466163</td>\n",
       "    </tr>\n",
       "    <tr>\n",
       "      <th>New_York</th>\n",
       "      <td>E</td>\n",
       "      <td>0.414393</td>\n",
       "      <td>0.411765</td>\n",
       "      <td>-2.238422</td>\n",
       "    </tr>\n",
       "    <tr>\n",
       "      <th>Denver</th>\n",
       "      <td>W</td>\n",
       "      <td>0.420858</td>\n",
       "      <td>0.411765</td>\n",
       "      <td>-1.975411</td>\n",
       "    </tr>\n",
       "    <tr>\n",
       "      <th>Sacramento</th>\n",
       "      <td>W</td>\n",
       "      <td>0.412817</td>\n",
       "      <td>0.393939</td>\n",
       "      <td>-2.116028</td>\n",
       "    </tr>\n",
       "    <tr>\n",
       "      <th>New_Orleans</th>\n",
       "      <td>W</td>\n",
       "      <td>0.384521</td>\n",
       "      <td>0.363636</td>\n",
       "      <td>-2.992083</td>\n",
       "    </tr>\n",
       "    <tr>\n",
       "      <th>Minnesota</th>\n",
       "      <td>W</td>\n",
       "      <td>0.319984</td>\n",
       "      <td>0.313433</td>\n",
       "      <td>-4.084378</td>\n",
       "    </tr>\n",
       "    <tr>\n",
       "      <th>Brooklyn</th>\n",
       "      <td>E</td>\n",
       "      <td>0.290736</td>\n",
       "      <td>0.283582</td>\n",
       "      <td>-6.202879</td>\n",
       "    </tr>\n",
       "    <tr>\n",
       "      <th>Phoenix</th>\n",
       "      <td>W</td>\n",
       "      <td>0.298952</td>\n",
       "      <td>0.268657</td>\n",
       "      <td>-6.424259</td>\n",
       "    </tr>\n",
       "    <tr>\n",
       "      <th>LA_Lakers</th>\n",
       "      <td>W</td>\n",
       "      <td>0.236722</td>\n",
       "      <td>0.205882</td>\n",
       "      <td>-8.213580</td>\n",
       "    </tr>\n",
       "    <tr>\n",
       "      <th>Philadelphia</th>\n",
       "      <td>E</td>\n",
       "      <td>0.150813</td>\n",
       "      <td>0.134328</td>\n",
       "      <td>-10.430907</td>\n",
       "    </tr>\n",
       "  </tbody>\n",
       "</table>\n",
       "</div>"
      ],
      "text/plain": [
       "               conference  colley_ranking  wp_ranking  massey_ranking\n",
       "team                                                                 \n",
       " Golden_State          W         0.874063    0.909091       10.299530\n",
       " San_Antonio           W         0.803976    0.850746       11.229590\n",
       " Cleveland             E         0.692428    0.712121        5.755390\n",
       " Toronto               E         0.659347    0.681818        3.929612\n",
       " Oklahoma_City         W         0.655552    0.671642        6.468822\n",
       " LA_Clippers           W         0.629708    0.636364        3.714009\n",
       " Miami                 E         0.577367    0.582090        1.049528\n",
       " Boston                E         0.565690    0.582090        3.536279\n",
       " Memphis               W         0.563176    0.582090       -1.711879\n",
       " Atlanta               E         0.558822    0.567164        3.205975\n",
       " Charlotte             E         0.558224    0.560606        2.085575\n",
       " Indiana               E         0.547962    0.537313        1.762333\n",
       " Portland              W         0.515941    0.514706        0.658536\n",
       " Chicago               E         0.516007    0.507692       -0.973856\n",
       " Detroit               E         0.500250    0.507463        0.224708\n",
       " Houston               W         0.511327    0.507463       -0.388489\n",
       " Dallas                W         0.502178    0.507463       -0.411843\n",
       " Utah                  W         0.487206    0.477612        1.124334\n",
       " Washington            E         0.483709    0.469697       -1.253650\n",
       " Orlando               E         0.432244    0.439394       -2.160394\n",
       " Milwaukee             E         0.435025    0.426471       -3.466163\n",
       " New_York              E         0.414393    0.411765       -2.238422\n",
       " Denver                W         0.420858    0.411765       -1.975411\n",
       " Sacramento            W         0.412817    0.393939       -2.116028\n",
       " New_Orleans           W         0.384521    0.363636       -2.992083\n",
       " Minnesota             W         0.319984    0.313433       -4.084378\n",
       " Brooklyn              E         0.290736    0.283582       -6.202879\n",
       " Phoenix               W         0.298952    0.268657       -6.424259\n",
       " LA_Lakers             W         0.236722    0.205882       -8.213580\n",
       " Philadelphia          E         0.150813    0.134328      -10.430907"
      ]
     },
     "execution_count": 16,
     "metadata": {},
     "output_type": "execute_result"
    }
   ],
   "source": [
    "nba_merged = nba_colley_ranking.merge(right=nba_massey_ranking, on=['team'], left_index=True)\n",
    "nba_merged = nba_wp_ranking.merge(right=nba_merged, on=['team'], left_index=True)\n",
    "nba_merged.sort_values(by='wp_ranking', ascending=False, inplace=True)\n",
    "nba_merged = nba_merged[['conference', 'colley_ranking', 'wp_ranking', 'massey_ranking']]\n",
    "nba_merged"
   ]
  },
  {
   "cell_type": "code",
   "execution_count": 17,
   "metadata": {},
   "outputs": [],
   "source": [
    "nba_merged.to_csv(\n",
    "    path_or_buf='csv/all_rankings.csv', \n",
    "    sep = \" \", \n",
    "    index= True,\n",
    "    header = True)"
   ]
  },
  {
   "cell_type": "markdown",
   "metadata": {},
   "source": [
    "## 6) Escenarios con mínima diferencia de puntos"
   ]
  },
  {
   "cell_type": "code",
   "execution_count": 18,
   "metadata": {
    "scrolled": true
   },
   "outputs": [
    {
     "data": {
      "image/svg+xml": [
       "<?xml version=\"1.0\" encoding=\"UTF-8\" standalone=\"no\"?>\n",
       "<!DOCTYPE svg PUBLIC \"-//W3C//DTD SVG 1.1//EN\"\n",
       " \"http://www.w3.org/Graphics/SVG/1.1/DTD/svg11.dtd\">\n",
       "<!-- Generated by graphviz version 2.43.0 (0)\n",
       " -->\n",
       "<!-- Title: %3 Pages: 1 -->\n",
       "<svg width=\"157pt\" height=\"116pt\"\n",
       " viewBox=\"0.00 0.00 157.00 116.00\" xmlns=\"http://www.w3.org/2000/svg\" xmlns:xlink=\"http://www.w3.org/1999/xlink\">\n",
       "<g id=\"graph0\" class=\"graph\" transform=\"scale(1 1) rotate(0) translate(4 112)\">\n",
       "<title>%3</title>\n",
       "<polygon fill=\"white\" stroke=\"transparent\" points=\"-4,4 -4,-112 153,-112 153,4 -4,4\"/>\n",
       "<!-- A -->\n",
       "<g id=\"node1\" class=\"node\">\n",
       "<title>A</title>\n",
       "<ellipse fill=\"none\" stroke=\"black\" cx=\"122\" cy=\"-90\" rx=\"27\" ry=\"18\"/>\n",
       "<text text-anchor=\"middle\" x=\"122\" y=\"-86.3\" font-family=\"Times,serif\" font-size=\"14.00\">A</text>\n",
       "</g>\n",
       "<!-- B -->\n",
       "<g id=\"node2\" class=\"node\">\n",
       "<title>B</title>\n",
       "<ellipse fill=\"none\" stroke=\"black\" cx=\"122\" cy=\"-18\" rx=\"27\" ry=\"18\"/>\n",
       "<text text-anchor=\"middle\" x=\"122\" y=\"-14.3\" font-family=\"Times,serif\" font-size=\"14.00\">B</text>\n",
       "</g>\n",
       "<!-- A&#45;&gt;B -->\n",
       "<g id=\"edge1\" class=\"edge\">\n",
       "<title>A&#45;&gt;B</title>\n",
       "<path fill=\"none\" stroke=\"black\" d=\"M122,-71.7C122,-63.98 122,-54.71 122,-46.11\"/>\n",
       "<polygon fill=\"black\" stroke=\"black\" points=\"125.5,-46.1 122,-36.1 118.5,-46.1 125.5,-46.1\"/>\n",
       "<text text-anchor=\"middle\" x=\"61\" y=\"-57.69\" font-family=\"Times,serif\" font-size=\"14.00\">A le ganó a B por #n &#160;</text>\n",
       "</g>\n",
       "</g>\n",
       "</svg>\n"
      ],
      "text/plain": [
       "<graphviz.dot.Digraph at 0x7fba3e2a9a90>"
      ]
     },
     "execution_count": 18,
     "metadata": {},
     "output_type": "execute_result"
    }
   ],
   "source": [
    "# Semántica de los digrafos\n",
    "dot = Digraph()\n",
    "dot.node('A')\n",
    "dot.node('B')\n",
    "\n",
    "dot.edge('A','B',xlabel='A le ganó a B por #n  ')\n",
    "dot"
   ]
  },
  {
   "cell_type": "markdown",
   "metadata": {},
   "source": [
    "### 6.a) Ganarle a un oponente promedio"
   ]
  },
  {
   "cell_type": "code",
   "execution_count": 19,
   "metadata": {},
   "outputs": [],
   "source": [
    "number_of_teams = 4\n",
    "input_file_6a = os.path.join(scenarios_path, \"minima_diferencia_ganar_contra_oponente_promedio.in\")\n",
    "run_all(input_file_6a)"
   ]
  },
  {
   "cell_type": "code",
   "execution_count": 20,
   "metadata": {},
   "outputs": [
    {
     "data": {
      "text/plain": [
       "'./img/minima_diferencia_ganar_contra_oponente_promedio.png'"
      ]
     },
     "execution_count": 20,
     "metadata": {},
     "output_type": "execute_result"
    }
   ],
   "source": [
    "dot = Digraph()\n",
    "dot.node('1')\n",
    "dot.node('2')\n",
    "dot.node('3')\n",
    "dot.node('4')\n",
    "\n",
    "dot.edge('1','2',xlabel='1-0')\n",
    "dot.edge('1','3',xlabel='1-0')\n",
    "dot.edge('2','3',xlabel='1-0  ')\n",
    "dot.edge('4','2',xlabel='1-0  ')\n",
    "\n",
    "dot.format = 'png'\n",
    "dot.render(filename=\"minima_diferencia_ganar_contra_oponente_promedio\", directory='./img', view=False)\n",
    "#dot"
   ]
  },
  {
   "cell_type": "code",
   "execution_count": 21,
   "metadata": {
    "scrolled": true
   },
   "outputs": [],
   "source": [
    "colley_6a = build_dataframe(input_file_6a, 'colley', teams=range(1,number_of_teams+1))\n",
    "wp_6a = build_dataframe(input_file_6a, 'wp', teams=range(1,number_of_teams+1))\n",
    "massey_6a = build_dataframe(input_file_6a, 'massey', teams=range(1,number_of_teams+1))\n",
    "\n",
    "#display(colley_6a)\n",
    "#display(wp_6a)\n",
    "#display(massey_6a)"
   ]
  },
  {
   "cell_type": "markdown",
   "metadata": {},
   "source": [
    "### 6.b) Ganarle al peor"
   ]
  },
  {
   "cell_type": "code",
   "execution_count": 22,
   "metadata": {},
   "outputs": [],
   "source": [
    "number_of_teams = 4\n",
    "input_file_6b = os.path.join(scenarios_path, \"minima_diferencia_ganar_contra_el_peor.in\")\n",
    "run_all(input_file_6b)"
   ]
  },
  {
   "cell_type": "code",
   "execution_count": 23,
   "metadata": {},
   "outputs": [
    {
     "data": {
      "text/plain": [
       "'./img/minima_diferencia_ganar_contra_el_peor.png'"
      ]
     },
     "execution_count": 23,
     "metadata": {},
     "output_type": "execute_result"
    }
   ],
   "source": [
    "dot = Digraph()\n",
    "dot.node('1')\n",
    "dot.node('2')\n",
    "dot.node('3')\n",
    "dot.node('4')\n",
    "\n",
    "dot.edge('1','2',xlabel='1-0')\n",
    "dot.edge('1','3',xlabel='1-0')\n",
    "dot.edge('2','3',xlabel='1-0   ')\n",
    "dot.edge('4','3',xlabel='1-0')\n",
    "\n",
    "dot.format = 'png'\n",
    "dot.render(filename=\"minima_diferencia_ganar_contra_el_peor\", directory='./img', view=False)\n",
    "#dot"
   ]
  },
  {
   "cell_type": "code",
   "execution_count": 24,
   "metadata": {
    "scrolled": true
   },
   "outputs": [],
   "source": [
    "colley_6b = build_dataframe(input_file_6b, 'colley', teams=range(1,number_of_teams+1))\n",
    "wp_6b = build_dataframe(input_file_6b, 'wp', teams=range(1,number_of_teams+1))\n",
    "massey_6b = build_dataframe(input_file_6b, 'massey', teams=range(1,number_of_teams+1))\n",
    "\n",
    "#display(colley_6b)\n",
    "#display(wp_6b)\n",
    "#display(massey_6b)"
   ]
  },
  {
   "cell_type": "markdown",
   "metadata": {},
   "source": [
    "### 6.c) Ganarle al mejor"
   ]
  },
  {
   "cell_type": "code",
   "execution_count": 25,
   "metadata": {},
   "outputs": [],
   "source": [
    "number_of_teams = 4\n",
    "input_file_6c = os.path.join(scenarios_path, \"minima_diferencia_ganar_contra_el_mejor.in\")\n",
    "run_all(input_file_6c)"
   ]
  },
  {
   "cell_type": "code",
   "execution_count": 26,
   "metadata": {},
   "outputs": [
    {
     "data": {
      "text/plain": [
       "'./img/minima_diferencia_ganar_contra_el_mejor.png'"
      ]
     },
     "execution_count": 26,
     "metadata": {},
     "output_type": "execute_result"
    }
   ],
   "source": [
    "dot = Digraph()\n",
    "dot.node('1')\n",
    "dot.node('2')\n",
    "dot.node('3')\n",
    "dot.node('4')\n",
    "\n",
    "dot.edge('1','2',xlabel='1-0')\n",
    "dot.edge('1','3',xlabel='1-0')\n",
    "dot.edge('2','3',xlabel='1-0   ')\n",
    "dot.edge('4','1',xlabel='1-0  ')\n",
    "\n",
    "dot.format = 'png'\n",
    "dot.render(filename=\"minima_diferencia_ganar_contra_el_mejor\", directory='./img', view=False)\n",
    "#dot"
   ]
  },
  {
   "cell_type": "code",
   "execution_count": 27,
   "metadata": {
    "scrolled": true
   },
   "outputs": [],
   "source": [
    "colley_6c = build_dataframe(input_file_6c, 'colley', teams=range(1,number_of_teams+1))\n",
    "wp_6c = build_dataframe(input_file_6c, 'wp', teams=range(1,number_of_teams+1))\n",
    "massey_6c = build_dataframe(input_file_6c, 'massey', teams=range(1,number_of_teams+1))\n",
    "\n",
    "#display(colley_6c)\n",
    "#display(wp_6c)\n",
    "#display(massey_6c)"
   ]
  },
  {
   "cell_type": "markdown",
   "metadata": {},
   "source": [
    "### 6.d) Perder contra un oponente promedio"
   ]
  },
  {
   "cell_type": "code",
   "execution_count": 28,
   "metadata": {},
   "outputs": [],
   "source": [
    "number_of_teams = 4\n",
    "input_file_6d = os.path.join(scenarios_path, \"minima_diferencia_perder_contra_oponente_promedio.in\")\n",
    "run_all(input_file_6d)"
   ]
  },
  {
   "cell_type": "code",
   "execution_count": 29,
   "metadata": {},
   "outputs": [
    {
     "data": {
      "text/plain": [
       "'./img/minima_diferencia_perder_contra_oponente_promedio.png'"
      ]
     },
     "execution_count": 29,
     "metadata": {},
     "output_type": "execute_result"
    }
   ],
   "source": [
    "dot = Digraph()\n",
    "dot.node('1')\n",
    "dot.node('2')\n",
    "dot.node('3')\n",
    "dot.node('4')\n",
    "\n",
    "dot.edge('1','2',xlabel='1-0')\n",
    "dot.edge('1','3',xlabel='1-0')\n",
    "dot.edge('2','3',xlabel='1-0')\n",
    "dot.edge('2','4',xlabel='1-0')\n",
    "\n",
    "dot.format = 'png'\n",
    "dot.render(filename=\"minima_diferencia_perder_contra_oponente_promedio\", directory='./img', view=False)\n",
    "#dot"
   ]
  },
  {
   "cell_type": "code",
   "execution_count": 30,
   "metadata": {
    "scrolled": false
   },
   "outputs": [],
   "source": [
    "colley_6d = build_dataframe(input_file_6d, 'colley', teams=range(1,number_of_teams+1))\n",
    "wp_6d = build_dataframe(input_file_6d, 'wp', teams=range(1,number_of_teams+1))\n",
    "massey_6d = build_dataframe(input_file_6d, 'massey', teams=range(1,number_of_teams+1))\n",
    "\n",
    "#display(colley_6d)\n",
    "#display(wp_6d)\n",
    "#display(massey_6d)"
   ]
  },
  {
   "cell_type": "markdown",
   "metadata": {},
   "source": [
    "### 6.e) Perder contra el peor"
   ]
  },
  {
   "cell_type": "code",
   "execution_count": 31,
   "metadata": {},
   "outputs": [],
   "source": [
    "number_of_teams = 4\n",
    "input_file_6e = os.path.join(scenarios_path, \"minima_diferencia_perder_contra_el_peor.in\")\n",
    "run_all(input_file_6e)"
   ]
  },
  {
   "cell_type": "code",
   "execution_count": 32,
   "metadata": {
    "scrolled": true
   },
   "outputs": [
    {
     "data": {
      "text/plain": [
       "'./img/minima_diferencia_perder_contra_el_peor.png'"
      ]
     },
     "execution_count": 32,
     "metadata": {},
     "output_type": "execute_result"
    }
   ],
   "source": [
    "dot = Digraph()\n",
    "dot.node('1')\n",
    "dot.node('2')\n",
    "dot.node('3')\n",
    "dot.node('4')\n",
    "\n",
    "dot.edge('1','2',xlabel='1-0')\n",
    "dot.edge('1','3',xlabel='1-0')\n",
    "dot.edge('2','3',xlabel='1-0')\n",
    "dot.edge('3','4',xlabel='1-0')\n",
    "\n",
    "dot.format = 'png'\n",
    "dot.render(filename=\"minima_diferencia_perder_contra_el_peor\", directory='./img', view=False)\n",
    "#dot"
   ]
  },
  {
   "cell_type": "code",
   "execution_count": 33,
   "metadata": {
    "scrolled": true
   },
   "outputs": [],
   "source": [
    "colley_6e = build_dataframe(input_file_6e, 'colley', teams=range(1,number_of_teams+1))\n",
    "wp_6e = build_dataframe(input_file_6e, 'wp', teams=range(1,number_of_teams+1))\n",
    "massey_6e = build_dataframe(input_file_6e, 'massey', teams=range(1,number_of_teams+1))\n",
    "\n",
    "#display(colley_6e)\n",
    "#display(wp_6e)\n",
    "#display(massey_6e)"
   ]
  },
  {
   "cell_type": "markdown",
   "metadata": {},
   "source": [
    "### 6.f) Perder contra el mejor"
   ]
  },
  {
   "cell_type": "code",
   "execution_count": 34,
   "metadata": {},
   "outputs": [],
   "source": [
    "number_of_teams = 4\n",
    "input_file_6f = os.path.join(scenarios_path, \"minima_diferencia_perder_contra_el_mejor.in\")\n",
    "run_all(input_file_6f)"
   ]
  },
  {
   "cell_type": "code",
   "execution_count": 35,
   "metadata": {},
   "outputs": [
    {
     "data": {
      "text/plain": [
       "'./img/minima_diferencia_perder_contra_el_mejor.png'"
      ]
     },
     "execution_count": 35,
     "metadata": {},
     "output_type": "execute_result"
    }
   ],
   "source": [
    "dot = Digraph()\n",
    "dot.node('1')\n",
    "dot.node('2')\n",
    "dot.node('3')\n",
    "dot.node('4')\n",
    "\n",
    "dot.edge('1','2',xlabel='1-0')\n",
    "dot.edge('1','3',xlabel='1-0')\n",
    "dot.edge('2','3',xlabel='1-0')\n",
    "dot.edge('1','4',xlabel='1-0')\n",
    "\n",
    "dot.format = 'png'\n",
    "dot.render(filename=\"minima_diferencia_perder_contra_el_mejor\", directory='./img', view=False)\n",
    "#dot"
   ]
  },
  {
   "cell_type": "code",
   "execution_count": 36,
   "metadata": {
    "scrolled": true
   },
   "outputs": [],
   "source": [
    "colley_6f = build_dataframe(input_file_6f, 'colley', teams=range(1,number_of_teams+1))\n",
    "wp_6f = build_dataframe(input_file_6f, 'wp', teams=range(1,number_of_teams+1))\n",
    "massey_6f = build_dataframe(input_file_6f, 'massey', teams=range(1,number_of_teams+1))\n",
    "\n",
    "#display(colley_6f)\n",
    "#display(wp_6f)\n",
    "#display(massey_6f)"
   ]
  },
  {
   "cell_type": "markdown",
   "metadata": {},
   "source": [
    "## 7) Escenarios con amplia diferencia de puntos"
   ]
  },
  {
   "cell_type": "markdown",
   "metadata": {},
   "source": [
    "### 7.a) Ganarle a un oponente promedio"
   ]
  },
  {
   "cell_type": "code",
   "execution_count": 37,
   "metadata": {},
   "outputs": [],
   "source": [
    "number_of_teams = 4\n",
    "input_file_7a = os.path.join(scenarios_path, \"amplia_diferencia_ganar_contra_oponente_promedio.in\")\n",
    "run_all(input_file_7a)"
   ]
  },
  {
   "cell_type": "code",
   "execution_count": 38,
   "metadata": {},
   "outputs": [
    {
     "data": {
      "text/plain": [
       "'./img/amplia_diferencia_ganar_contra_oponente_promedio.png'"
      ]
     },
     "execution_count": 38,
     "metadata": {},
     "output_type": "execute_result"
    }
   ],
   "source": [
    "dot = Digraph()\n",
    "dot.node('1')\n",
    "dot.node('2')\n",
    "dot.node('3')\n",
    "dot.node('4')\n",
    "\n",
    "dot.edge('1','2',xlabel='1-0')\n",
    "dot.edge('1','3',xlabel='1-0')\n",
    "dot.edge('2','3',xlabel='1-0  ')\n",
    "dot.edge('4','2',xlabel='15-5  ')\n",
    "\n",
    "dot.format = 'png'\n",
    "dot.render(filename=\"amplia_diferencia_ganar_contra_oponente_promedio\", directory='./img', view=False)\n",
    "#dot"
   ]
  },
  {
   "cell_type": "code",
   "execution_count": 39,
   "metadata": {
    "scrolled": true
   },
   "outputs": [],
   "source": [
    "colley_7a = build_dataframe(input_file_7a, 'colley', teams=range(1,number_of_teams+1))\n",
    "wp_7a = build_dataframe(input_file_7a, 'wp', teams=range(1,number_of_teams+1))\n",
    "massey_7a = build_dataframe(input_file_7a, 'massey', teams=range(1,number_of_teams+1))\n",
    "\n",
    "#display(colley_7a)\n",
    "#display(wp_7a)\n",
    "#display(massey_7a)"
   ]
  },
  {
   "cell_type": "markdown",
   "metadata": {},
   "source": [
    "### 7.b) Ganarle al peor"
   ]
  },
  {
   "cell_type": "code",
   "execution_count": 40,
   "metadata": {},
   "outputs": [],
   "source": [
    "number_of_teams = 4\n",
    "input_file_7b = os.path.join(scenarios_path, \"amplia_diferencia_ganar_contra_el_peor.in\")\n",
    "run_all(input_file_7b)"
   ]
  },
  {
   "cell_type": "code",
   "execution_count": 41,
   "metadata": {},
   "outputs": [
    {
     "data": {
      "text/plain": [
       "'./img/amplia_diferencia_ganar_contra_el_peor.png'"
      ]
     },
     "execution_count": 41,
     "metadata": {},
     "output_type": "execute_result"
    }
   ],
   "source": [
    "dot = Digraph()\n",
    "dot.node('1')\n",
    "dot.node('2')\n",
    "dot.node('3')\n",
    "dot.node('4')\n",
    "\n",
    "dot.edge('1','2',xlabel='1-0')\n",
    "dot.edge('1','3',xlabel='1-0')\n",
    "dot.edge('2','3',xlabel='1-0   ')\n",
    "dot.edge('4','3',xlabel='15-5')\n",
    "\n",
    "dot.format = 'png'\n",
    "dot.render(filename=\"amplia_diferencia_ganar_contra_el_peor\", directory='./img', view=False)\n",
    "#dot"
   ]
  },
  {
   "cell_type": "code",
   "execution_count": 42,
   "metadata": {
    "scrolled": true
   },
   "outputs": [],
   "source": [
    "colley_7b = build_dataframe(input_file_7b, 'colley', teams=range(1,number_of_teams+1))\n",
    "wp_7b = build_dataframe(input_file_7b, 'wp', teams=range(1,number_of_teams+1))\n",
    "massey_7b = build_dataframe(input_file_7b, 'massey', teams=range(1,number_of_teams+1))\n",
    "\n",
    "#display(colley_7b)\n",
    "#display(wp_7b)\n",
    "#display(massey_7b)"
   ]
  },
  {
   "cell_type": "markdown",
   "metadata": {},
   "source": [
    "### 7.c) Ganarle al mejor"
   ]
  },
  {
   "cell_type": "code",
   "execution_count": 43,
   "metadata": {},
   "outputs": [],
   "source": [
    "number_of_teams = 4\n",
    "input_file_7c = os.path.join(scenarios_path, \"amplia_diferencia_ganar_contra_el_mejor.in\")\n",
    "run_all(input_file_7c)"
   ]
  },
  {
   "cell_type": "code",
   "execution_count": 44,
   "metadata": {},
   "outputs": [
    {
     "data": {
      "text/plain": [
       "'./img/amplia_diferencia_ganar_contra_el_mejor.png'"
      ]
     },
     "execution_count": 44,
     "metadata": {},
     "output_type": "execute_result"
    }
   ],
   "source": [
    "dot = Digraph()\n",
    "dot.node('1')\n",
    "dot.node('2')\n",
    "dot.node('3')\n",
    "dot.node('4')\n",
    "\n",
    "dot.edge('1','2',xlabel='1-0')\n",
    "dot.edge('1','3',xlabel='1-0')\n",
    "dot.edge('2','3',xlabel='1-0   ')\n",
    "dot.edge('4','1',xlabel='15-5  ')\n",
    "\n",
    "dot.format = 'png'\n",
    "dot.render(filename=\"amplia_diferencia_ganar_contra_el_mejor\", directory='./img', view=False)\n",
    "#dot"
   ]
  },
  {
   "cell_type": "code",
   "execution_count": 45,
   "metadata": {
    "scrolled": true
   },
   "outputs": [],
   "source": [
    "colley_7c = build_dataframe(input_file_7c, 'colley', teams=range(1,number_of_teams+1))\n",
    "wp_7c = build_dataframe(input_file_7c, 'wp', teams=range(1,number_of_teams+1))\n",
    "massey_7c = build_dataframe(input_file_7c, 'massey', teams=range(1,number_of_teams+1))\n",
    "\n",
    "#display(colley_7c)\n",
    "#display(wp_7c)\n",
    "#display(massey_7c)"
   ]
  },
  {
   "cell_type": "markdown",
   "metadata": {},
   "source": [
    "### 7.d) Perder contra un oponente promedio"
   ]
  },
  {
   "cell_type": "code",
   "execution_count": 46,
   "metadata": {},
   "outputs": [],
   "source": [
    "number_of_teams = 4\n",
    "input_file_7d = os.path.join(scenarios_path, \"amplia_diferencia_perder_contra_oponente_promedio.in\")\n",
    "run_all(input_file_7d)"
   ]
  },
  {
   "cell_type": "code",
   "execution_count": 47,
   "metadata": {},
   "outputs": [
    {
     "data": {
      "text/plain": [
       "'./img/amplia_diferencia_perder_contra_oponente_promedio.png'"
      ]
     },
     "execution_count": 47,
     "metadata": {},
     "output_type": "execute_result"
    }
   ],
   "source": [
    "dot = Digraph()\n",
    "dot.node('1')\n",
    "dot.node('2')\n",
    "dot.node('3')\n",
    "dot.node('4')\n",
    "\n",
    "dot.edge('1','2',xlabel='1-0')\n",
    "dot.edge('1','3',xlabel='1-0')\n",
    "dot.edge('2','3',xlabel='1-0')\n",
    "dot.edge('2','4',xlabel='15-5')\n",
    "\n",
    "dot.format = 'png'\n",
    "dot.render(filename=\"amplia_diferencia_perder_contra_oponente_promedio\", directory='./img', view=False)\n",
    "#dot"
   ]
  },
  {
   "cell_type": "code",
   "execution_count": 48,
   "metadata": {
    "scrolled": true
   },
   "outputs": [],
   "source": [
    "colley_7d = build_dataframe(input_file_7d, 'colley', teams=range(1,number_of_teams+1))\n",
    "wp_7d = build_dataframe(input_file_7d, 'wp', teams=range(1,number_of_teams+1))\n",
    "massey_7d = build_dataframe(input_file_7d, 'massey', teams=range(1,number_of_teams+1))\n",
    "\n",
    "#display(colley_7d)\n",
    "#display(wp_7d)\n",
    "#display(massey_7d)"
   ]
  },
  {
   "cell_type": "markdown",
   "metadata": {},
   "source": [
    "### 7.e) Perder contra el peor"
   ]
  },
  {
   "cell_type": "code",
   "execution_count": 49,
   "metadata": {},
   "outputs": [],
   "source": [
    "number_of_teams = 4\n",
    "input_file_7e = os.path.join(scenarios_path, \"amplia_diferencia_perder_contra_el_peor.in\")\n",
    "run_all(input_file_7e)"
   ]
  },
  {
   "cell_type": "code",
   "execution_count": 50,
   "metadata": {
    "scrolled": true
   },
   "outputs": [
    {
     "data": {
      "text/plain": [
       "'./img/amplia_diferencia_perder_contra_el_peor.png'"
      ]
     },
     "execution_count": 50,
     "metadata": {},
     "output_type": "execute_result"
    }
   ],
   "source": [
    "dot = Digraph()\n",
    "dot.node('1')\n",
    "dot.node('2')\n",
    "dot.node('3')\n",
    "dot.node('4')\n",
    "\n",
    "dot.edge('1','2',xlabel='1-0')\n",
    "dot.edge('1','3',xlabel='1-0')\n",
    "dot.edge('2','3',xlabel='1-0')\n",
    "dot.edge('3','4',xlabel='15-5')\n",
    "\n",
    "dot.format = 'png'\n",
    "dot.render(filename=\"amplia_diferencia_perder_contra_el_peor\", directory='./img', view=False)\n",
    "#dot"
   ]
  },
  {
   "cell_type": "code",
   "execution_count": 51,
   "metadata": {
    "scrolled": true
   },
   "outputs": [],
   "source": [
    "colley_7e = build_dataframe(input_file_7e, 'colley', teams=range(1,number_of_teams+1))\n",
    "wp_7e = build_dataframe(input_file_7e, 'wp', teams=range(1,number_of_teams+1))\n",
    "massey_7e = build_dataframe(input_file_7e, 'massey', teams=range(1,number_of_teams+1))\n",
    "\n",
    "#display(colley_7e)\n",
    "#display(wp_7e)\n",
    "#display(massey_7e)"
   ]
  },
  {
   "cell_type": "markdown",
   "metadata": {},
   "source": [
    "### 7.f) Perder contra el mejor"
   ]
  },
  {
   "cell_type": "code",
   "execution_count": 52,
   "metadata": {},
   "outputs": [],
   "source": [
    "number_of_teams = 4\n",
    "input_file_7f = os.path.join(scenarios_path, \"amplia_diferencia_perder_contra_el_mejor.in\")\n",
    "run_all(input_file_7f)"
   ]
  },
  {
   "cell_type": "code",
   "execution_count": 53,
   "metadata": {},
   "outputs": [
    {
     "data": {
      "text/plain": [
       "'./img/amplia_diferencia_perder_contra_el_mejor.png'"
      ]
     },
     "execution_count": 53,
     "metadata": {},
     "output_type": "execute_result"
    }
   ],
   "source": [
    "dot = Digraph()\n",
    "dot.node('1')\n",
    "dot.node('2')\n",
    "dot.node('3')\n",
    "dot.node('4')\n",
    "\n",
    "dot.edge('1','2',xlabel='1-0')\n",
    "dot.edge('1','3',xlabel='1-0')\n",
    "dot.edge('2','3',xlabel='1-0')\n",
    "dot.edge('1','4',xlabel='15-5')\n",
    "\n",
    "dot.format = 'png'\n",
    "dot.render(filename=\"amplia_diferencia_perder_contra_el_mejor\", directory='./img', view=False)\n",
    "#dot"
   ]
  },
  {
   "cell_type": "code",
   "execution_count": 54,
   "metadata": {
    "scrolled": true
   },
   "outputs": [],
   "source": [
    "colley_7f = build_dataframe(input_file_7f, 'colley', teams=range(1,number_of_teams+1))\n",
    "wp_7f = build_dataframe(input_file_7f, 'wp', teams=range(1,number_of_teams+1))\n",
    "massey_7f = build_dataframe(input_file_7f, 'massey', teams=range(1,number_of_teams+1))\n",
    "\n",
    "#display(colley_7f)\n",
    "#display(wp_7f)\n",
    "#display(massey_7f)"
   ]
  },
  {
   "cell_type": "markdown",
   "metadata": {},
   "source": [
    "## 8) Análisis de métodos"
   ]
  },
  {
   "cell_type": "code",
   "execution_count": 55,
   "metadata": {
    "scrolled": true
   },
   "outputs": [
    {
     "data": {
      "text/html": [
       "<div>\n",
       "<style scoped>\n",
       "    .dataframe tbody tr th:only-of-type {\n",
       "        vertical-align: middle;\n",
       "    }\n",
       "\n",
       "    .dataframe tbody tr th {\n",
       "        vertical-align: top;\n",
       "    }\n",
       "\n",
       "    .dataframe thead th {\n",
       "        text-align: right;\n",
       "    }\n",
       "</style>\n",
       "<table border=\"1\" class=\"dataframe\">\n",
       "  <thead>\n",
       "    <tr style=\"text-align: right;\">\n",
       "      <th></th>\n",
       "      <th>massey_ranking</th>\n",
       "      <th>conference</th>\n",
       "    </tr>\n",
       "    <tr>\n",
       "      <th>team</th>\n",
       "      <th></th>\n",
       "      <th></th>\n",
       "    </tr>\n",
       "  </thead>\n",
       "  <tbody>\n",
       "    <tr>\n",
       "      <th>San_Antonio</th>\n",
       "      <td>11.229590</td>\n",
       "      <td>W</td>\n",
       "    </tr>\n",
       "    <tr>\n",
       "      <th>Golden_State</th>\n",
       "      <td>10.299530</td>\n",
       "      <td>W</td>\n",
       "    </tr>\n",
       "    <tr>\n",
       "      <th>Oklahoma_City</th>\n",
       "      <td>6.468822</td>\n",
       "      <td>W</td>\n",
       "    </tr>\n",
       "    <tr>\n",
       "      <th>Cleveland</th>\n",
       "      <td>5.755390</td>\n",
       "      <td>E</td>\n",
       "    </tr>\n",
       "    <tr>\n",
       "      <th>Toronto</th>\n",
       "      <td>3.929612</td>\n",
       "      <td>E</td>\n",
       "    </tr>\n",
       "    <tr>\n",
       "      <th>LA_Clippers</th>\n",
       "      <td>3.714009</td>\n",
       "      <td>W</td>\n",
       "    </tr>\n",
       "    <tr>\n",
       "      <th>Boston</th>\n",
       "      <td>3.536279</td>\n",
       "      <td>E</td>\n",
       "    </tr>\n",
       "    <tr>\n",
       "      <th>Atlanta</th>\n",
       "      <td>3.205975</td>\n",
       "      <td>E</td>\n",
       "    </tr>\n",
       "    <tr>\n",
       "      <th>Charlotte</th>\n",
       "      <td>2.085575</td>\n",
       "      <td>E</td>\n",
       "    </tr>\n",
       "    <tr>\n",
       "      <th>Indiana</th>\n",
       "      <td>1.762333</td>\n",
       "      <td>E</td>\n",
       "    </tr>\n",
       "    <tr>\n",
       "      <th>Utah</th>\n",
       "      <td>1.124334</td>\n",
       "      <td>W</td>\n",
       "    </tr>\n",
       "    <tr>\n",
       "      <th>Miami</th>\n",
       "      <td>1.049528</td>\n",
       "      <td>E</td>\n",
       "    </tr>\n",
       "    <tr>\n",
       "      <th>Portland</th>\n",
       "      <td>0.658536</td>\n",
       "      <td>W</td>\n",
       "    </tr>\n",
       "    <tr>\n",
       "      <th>Detroit</th>\n",
       "      <td>0.224708</td>\n",
       "      <td>E</td>\n",
       "    </tr>\n",
       "    <tr>\n",
       "      <th>Houston</th>\n",
       "      <td>-0.388489</td>\n",
       "      <td>W</td>\n",
       "    </tr>\n",
       "    <tr>\n",
       "      <th>Dallas</th>\n",
       "      <td>-0.411843</td>\n",
       "      <td>W</td>\n",
       "    </tr>\n",
       "    <tr>\n",
       "      <th>Chicago</th>\n",
       "      <td>-0.973856</td>\n",
       "      <td>E</td>\n",
       "    </tr>\n",
       "    <tr>\n",
       "      <th>Washington</th>\n",
       "      <td>-1.253650</td>\n",
       "      <td>E</td>\n",
       "    </tr>\n",
       "    <tr>\n",
       "      <th>Memphis</th>\n",
       "      <td>-1.711879</td>\n",
       "      <td>W</td>\n",
       "    </tr>\n",
       "    <tr>\n",
       "      <th>Denver</th>\n",
       "      <td>-1.975411</td>\n",
       "      <td>W</td>\n",
       "    </tr>\n",
       "    <tr>\n",
       "      <th>Sacramento</th>\n",
       "      <td>-2.116028</td>\n",
       "      <td>W</td>\n",
       "    </tr>\n",
       "    <tr>\n",
       "      <th>Orlando</th>\n",
       "      <td>-2.160394</td>\n",
       "      <td>E</td>\n",
       "    </tr>\n",
       "    <tr>\n",
       "      <th>New_York</th>\n",
       "      <td>-2.238422</td>\n",
       "      <td>E</td>\n",
       "    </tr>\n",
       "    <tr>\n",
       "      <th>New_Orleans</th>\n",
       "      <td>-2.992083</td>\n",
       "      <td>W</td>\n",
       "    </tr>\n",
       "    <tr>\n",
       "      <th>Milwaukee</th>\n",
       "      <td>-3.466163</td>\n",
       "      <td>E</td>\n",
       "    </tr>\n",
       "    <tr>\n",
       "      <th>Minnesota</th>\n",
       "      <td>-4.084378</td>\n",
       "      <td>W</td>\n",
       "    </tr>\n",
       "    <tr>\n",
       "      <th>Brooklyn</th>\n",
       "      <td>-6.202879</td>\n",
       "      <td>E</td>\n",
       "    </tr>\n",
       "    <tr>\n",
       "      <th>Phoenix</th>\n",
       "      <td>-6.424259</td>\n",
       "      <td>W</td>\n",
       "    </tr>\n",
       "    <tr>\n",
       "      <th>LA_Lakers</th>\n",
       "      <td>-8.213580</td>\n",
       "      <td>W</td>\n",
       "    </tr>\n",
       "    <tr>\n",
       "      <th>Philadelphia</th>\n",
       "      <td>-10.430907</td>\n",
       "      <td>E</td>\n",
       "    </tr>\n",
       "  </tbody>\n",
       "</table>\n",
       "</div>"
      ],
      "text/plain": [
       "                massey_ranking conference\n",
       "team                                     \n",
       " San_Antonio         11.229590         W \n",
       " Golden_State        10.299530         W \n",
       " Oklahoma_City        6.468822         W \n",
       " Cleveland            5.755390         E \n",
       " Toronto              3.929612         E \n",
       " LA_Clippers          3.714009         W \n",
       " Boston               3.536279         E \n",
       " Atlanta              3.205975         E \n",
       " Charlotte            2.085575         E \n",
       " Indiana              1.762333         E \n",
       " Utah                 1.124334         W \n",
       " Miami                1.049528         E \n",
       " Portland             0.658536         W \n",
       " Detroit              0.224708         E \n",
       " Houston             -0.388489         W \n",
       " Dallas              -0.411843         W \n",
       " Chicago             -0.973856         E \n",
       " Washington          -1.253650         E \n",
       " Memphis             -1.711879         W \n",
       " Denver              -1.975411         W \n",
       " Sacramento          -2.116028         W \n",
       " Orlando             -2.160394         E \n",
       " New_York            -2.238422         E \n",
       " New_Orleans         -2.992083         W \n",
       " Milwaukee           -3.466163         E \n",
       " Minnesota           -4.084378         W \n",
       " Brooklyn            -6.202879         E \n",
       " Phoenix             -6.424259         W \n",
       " LA_Lakers           -8.213580         W \n",
       " Philadelphia       -10.430907         E "
      ]
     },
     "execution_count": 55,
     "metadata": {},
     "output_type": "execute_result"
    }
   ],
   "source": [
    "nba_colley_ranking = pd.read_csv(os.path.join(temp_path, 'nba-colley.out'), names = [\"colley_ranking\"])\n",
    "nba_colley_ranking['team'] = nba_teams()['name']\n",
    "nba_colley_ranking['conference'] = nba_teams()['conference']\n",
    "nba_colley_ranking.reset_index(inplace=True, drop=True)\n",
    "nba_colley_ranking.set_index('team', inplace=True)\n",
    "nba_colley_ranking.sort_values(by='colley_ranking', ascending=False)\n",
    "\n",
    "nba_wp_ranking = pd.read_csv(os.path.join(temp_path, 'nba-wp.out'), names = [\"wp_ranking\"])\n",
    "nba_wp_ranking['team'] = nba_teams()['name']\n",
    "nba_wp_ranking['conference'] = nba_teams()['conference']\n",
    "nba_wp_ranking.reset_index(inplace=True, drop=True)\n",
    "nba_wp_ranking.set_index('team', inplace=True)\n",
    "nba_wp_ranking.sort_values(by='wp_ranking', ascending=False)\n",
    "\n",
    "nba_massey_ranking = pd.read_csv(os.path.join(temp_path, 'nba-massey.out'), names = [\"massey_ranking\"])\n",
    "nba_massey_ranking['team'] = nba_teams()['name']\n",
    "nba_massey_ranking['conference'] = nba_teams()['conference']\n",
    "nba_massey_ranking.reset_index(inplace=True, drop=True)\n",
    "nba_massey_ranking.set_index('team', inplace=True)\n",
    "nba_massey_ranking.sort_values(by='massey_ranking', ascending=False)"
   ]
  },
  {
   "cell_type": "markdown",
   "metadata": {},
   "source": [
    "## 8.a) Análisis porcentaje de victorias"
   ]
  },
  {
   "cell_type": "code",
   "execution_count": 56,
   "metadata": {
    "scrolled": true
   },
   "outputs": [],
   "source": [
    "win_percentage = np.zeros((teams_amount,2), dtype=np.int)\n",
    "for index, row in nba.iterrows():\n",
    "    win_percentage[row['team 1']-1][1] = win_percentage[row['team 1']-1][1] + 1\n",
    "    win_percentage[row['team 2']-1][1] = win_percentage[row['team 2']-1][1] + 1\n",
    "    if row['score 1'] > row['score 2']:\n",
    "        win_percentage[row['team 1']-1][0] = win_percentage[row['team 1']-1][0] + 1\n",
    "    else:\n",
    "        win_percentage[row['team 2']-1][0] = win_percentage[row['team 2']-1][0] + 1\n",
    "win_percentage = [pair[0]/pair[1] for pair in win_percentage]"
   ]
  },
  {
   "cell_type": "code",
   "execution_count": 57,
   "metadata": {
    "scrolled": true
   },
   "outputs": [
    {
     "data": {
      "image/png": "[encoded data removed]",
      "text/plain": [
       "<Figure size 432x288 with 1 Axes>"
      ]
     },
     "metadata": {
      "needs_background": "light"
     },
     "output_type": "display_data"
    }
   ],
   "source": [
    "sns.regplot(x=win_percentage, y=nba_colley_ranking['colley_ranking'])\n",
    "sns.scatterplot(x=win_percentage, y=nba_colley_ranking['colley_ranking'], hue=nba_colley_ranking['conference'])\n",
    "plt.title('Ranking Colley vs. porcentaje de victorias')\n",
    "plt.xlabel('Porcentaje de victorias')\n",
    "plt.ylabel('Ranking Colley')\n",
    "plt.annotate('Golden State',  (0.73, 0.88))\n",
    "plt.annotate('San Antonio',   (0.67, 0.81))\n",
    "plt.annotate('Cleveland',     (0.59, 0.71))\n",
    "plt.annotate('Toronto',       (0.69, 0.65))\n",
    "plt.annotate('Oklahoma City', (0.46, 0.65))\n",
    "plt.annotate('LA Lakers',     (0.22, 0.2))\n",
    "plt.annotate('Philadelphia',  (0.15, 0.12))\n",
    "plt.savefig(os.path.join(img_path, 'colley_ranking_vs_win_percentage.png'))"
   ]
  },
  {
   "cell_type": "code",
   "execution_count": 58,
   "metadata": {},
   "outputs": [
    {
     "data": {
      "image/png": "[encoded data removed]",
      "text/plain": [
       "<Figure size 432x288 with 1 Axes>"
      ]
     },
     "metadata": {
      "needs_background": "light"
     },
     "output_type": "display_data"
    }
   ],
   "source": [
    "sns.regplot(x=win_percentage, y=nba_wp_ranking['wp_ranking'])\n",
    "sns.scatterplot(x=win_percentage, y=nba_wp_ranking['wp_ranking'], hue=nba_wp_ranking['conference'])\n",
    "plt.title('Ranking Win Rate vs. porcentaje de victorias')\n",
    "plt.xlabel('Porcentaje de victorias')\n",
    "plt.ylabel('Ranking Win Rate')\n",
    "plt.annotate('Golden State',  (0.73, 0.9))\n",
    "plt.annotate('San Antonio',   (0.67, 0.84))\n",
    "plt.annotate('Cleveland',     (0.59, 0.74))\n",
    "plt.annotate('Toronto',       (0.69, 0.66))\n",
    "plt.annotate('Oklahoma City', (0.46, 0.66))\n",
    "plt.annotate('LA Lakers',     (0.22, 0.18))\n",
    "plt.annotate('Philadelphia',  (0.15, 0.1))\n",
    "plt.savefig(os.path.join(img_path, 'wp_ranking_vs_win_percentage.png'))"
   ]
  },
  {
   "cell_type": "code",
   "execution_count": 59,
   "metadata": {},
   "outputs": [
    {
     "data": {
      "image/png": "[encoded data removed]",
      "text/plain": [
       "<Figure size 432x288 with 1 Axes>"
      ]
     },
     "metadata": {
      "needs_background": "light"
     },
     "output_type": "display_data"
    }
   ],
   "source": [
    "sns.regplot(x=win_percentage, y=nba_massey_ranking['massey_ranking'])\n",
    "sns.scatterplot(x=win_percentage, y=nba_massey_ranking['massey_ranking'], hue=nba_massey_ranking['conference'])\n",
    "plt.title('Ranking Massey vs. porcentaje de victorias')\n",
    "plt.xlabel('Porcentaje de victorias')\n",
    "plt.ylabel('Ranking Massey')\n",
    "plt.annotate('San Antonio',   (0.68, 11.5))\n",
    "plt.annotate('Golden State',  (0.72, 9.8))\n",
    "plt.annotate('Oklahoma City', (0.47, 7))\n",
    "plt.annotate('Cleveland',     (0.73, 5))\n",
    "plt.annotate('Toronto',       (0.70, 3.25))\n",
    "plt.annotate('LA Lakers',     (0.22, -9))\n",
    "plt.annotate('Philadelphia',  (0.15, -11.2))\n",
    "plt.savefig(os.path.join(img_path, 'massey_ranking_vs_win_percentage.png'))"
   ]
  },
  {
   "cell_type": "markdown",
   "metadata": {},
   "source": [
    "## 8.b) Análisis diferencial de puntos"
   ]
  },
  {
   "cell_type": "code",
   "execution_count": 60,
   "metadata": {
    "scrolled": true
   },
   "outputs": [],
   "source": [
    "score_spread = [0] * teams_amount\n",
    "for index, row in nba.iterrows():\n",
    "    score_spread[row['team 1']-1] = score_spread[row['team 1']-1] + (row['score 1']-row['score 2'])\n",
    "    score_spread[row['team 2']-1] = score_spread[row['team 2']-1] + (row['score 2']-row['score 1'])"
   ]
  },
  {
   "cell_type": "code",
   "execution_count": 61,
   "metadata": {},
   "outputs": [
    {
     "data": {
      "image/png": "[encoded data removed]",
      "text/plain": [
       "<Figure size 432x288 with 1 Axes>"
      ]
     },
     "metadata": {
      "needs_background": "light"
     },
     "output_type": "display_data"
    }
   ],
   "source": [
    "sns.regplot(x=score_spread, y=nba_colley_ranking['colley_ranking'])\n",
    "sns.scatterplot(x=score_spread, y=nba_colley_ranking['colley_ranking'], hue=nba_colley_ranking['conference'])\n",
    "plt.title('Ranking Colley vs. diferencial de puntos')\n",
    "plt.xlabel('Diferencial de puntos')\n",
    "plt.ylabel('Ranking Colley')\n",
    "plt.annotate('San Antonio',   ( 500, 0.8))\n",
    "plt.annotate('Golden State',  ( 350, 0.87))\n",
    "plt.annotate('Cleveland',     ( 140, 0.72))\n",
    "plt.annotate('Toronto',       (  75, 0.66))\n",
    "plt.annotate('Oklahoma City', ( 490, 0.65))\n",
    "plt.annotate('LA Lakers',     (-575, 0.2))\n",
    "plt.annotate('Philadelphia',  (-675, 0.12))\n",
    "plt.savefig(os.path.join(img_path, 'colley_ranking_vs_spread.png'))"
   ]
  },
  {
   "cell_type": "code",
   "execution_count": 62,
   "metadata": {},
   "outputs": [
    {
     "data": {
      "image/png": "[encoded data removed]",
      "text/plain": [
       "<Figure size 432x288 with 1 Axes>"
      ]
     },
     "metadata": {
      "needs_background": "light"
     },
     "output_type": "display_data"
    }
   ],
   "source": [
    "sns.regplot(x=score_spread, y=nba_wp_ranking['wp_ranking'])\n",
    "sns.scatterplot(x=score_spread, y=nba_wp_ranking['wp_ranking'], hue=nba_wp_ranking['conference'])\n",
    "plt.title('Ranking Win Rate vs. diferencial de puntos')\n",
    "plt.xlabel('Diferencial de puntos')\n",
    "plt.ylabel('Ranking Win Rate')\n",
    "plt.annotate('San Antonio',   ( 500, 0.83))\n",
    "plt.annotate('Golden State',  ( 350, 0.9))\n",
    "plt.annotate('Cleveland',     ( 140, 0.73))\n",
    "plt.annotate('Toronto',       (  75, 0.68))\n",
    "plt.annotate('Oklahoma City', ( 490, 0.65))\n",
    "plt.annotate('LA Lakers',     (-575, 0.18))\n",
    "plt.annotate('Philadelphia',  (-675, 0.1))\n",
    "plt.savefig(os.path.join(img_path, 'wp_ranking_vs_spread.png'))"
   ]
  },
  {
   "cell_type": "code",
   "execution_count": 63,
   "metadata": {
    "scrolled": false
   },
   "outputs": [
    {
     "data": {
      "image/png": "[encoded data removed]",
      "text/plain": [
       "<Figure size 432x288 with 1 Axes>"
      ]
     },
     "metadata": {
      "needs_background": "light"
     },
     "output_type": "display_data"
    }
   ],
   "source": [
    "sns.regplot(x=score_spread, y=nba_massey_ranking['massey_ranking'])\n",
    "sns.scatterplot(x=score_spread, y=nba_massey_ranking['massey_ranking'], hue=nba_massey_ranking['conference'])\n",
    "plt.title('Ranking Massey vs. diferencial de puntos')\n",
    "plt.xlabel('Diferencial de puntos')\n",
    "plt.ylabel('Ranking Massey')\n",
    "plt.annotate('San Antonio',   ( 500,  11.5))\n",
    "plt.annotate('Golden State',  ( 350,  10))\n",
    "plt.annotate('Oklahoma City', (  50,  7))\n",
    "plt.annotate('Cleveland',     ( 425,  4.75))\n",
    "plt.annotate('Toronto',       ( 325,  3.25))\n",
    "plt.annotate('LA Lakers',     (-575, -9))\n",
    "plt.annotate('Philadelphia',  (-675,-11))\n",
    "plt.savefig(os.path.join(img_path, 'massey_ranking_vs_spread.png'))"
   ]
  },
  {
   "cell_type": "markdown",
   "metadata": {},
   "source": [
    "## 9) NBA - Estrategias aplicadas a partidos de Philadelphia"
   ]
  },
  {
   "cell_type": "code",
   "execution_count": 64,
   "metadata": {},
   "outputs": [],
   "source": [
    "philadelphia = '23'\n",
    "\n",
    "# Top 5\n",
    "golden_state = '10'\n",
    "san_antonio = '27'\n",
    "cleveland = '6'\n",
    "toronto = '28'\n",
    "oklahoma_city = '21'\n",
    "top_5 = [golden_state, san_antonio, cleveland, toronto, oklahoma_city]\n",
    "\n",
    "# Last 5\n",
    "new_orleans = '19'\n",
    "minnesota = '18'\n",
    "brooklyn = '3'\n",
    "phoenix = '24'\n",
    "la_lakers = '14'\n",
    "last_5 = [new_orleans, minnesota, brooklyn, phoenix, la_lakers]\n",
    "\n",
    "nba_schedule_file = open(os.path.join(temp_path, 'nba.in'))\n",
    "philadelphia_matches = [line.split() for line in nba_schedule_file if len(line.split()) > 2 and ((line.split())[1] == philadelphia or (line.split())[3] == philadelphia)]\n",
    "philadelphia_vs_last_5 = [match for match in philadelphia_matches if (match[1] in last_5) or (match[3] in last_5)]\n",
    "philadelphia_vs_top_5 = [match for match in philadelphia_matches if (match[1] in top_5) or (match[3] in top_5)]"
   ]
  },
  {
   "cell_type": "code",
   "execution_count": 65,
   "metadata": {},
   "outputs": [],
   "source": [
    "# Philadelphia perdio todos los partidos vs los top5, solo me fijo el total de partidos jugados vs ellos... son 11\n",
    "amount_to_update = len(philadelphia_vs_top_5)\n",
    "\n",
    "# Filtro los partidos perdidos vs los últimos de la tabla... son 5\n",
    "lost_matches = [match for match in philadelphia_vs_last_5 if\n",
    "    not(int(match[2]) > int(match[4]) if match[1] == philadelphia else int(match[4]) > int(match[2]))]\n",
    "\n",
    "# Un partido de pandas es igual a un partido raw si...\n",
    "equal_matches = lambda m1, m2 : str(m1['date']) == m2[0] and str(m1['team 1']) == m2[1] and str(m1['score 1']) == m2[2] and str(m1['team 2']) == m2[3] and str(m1['score 2']) == m2[4]\n",
    "\n",
    "# Primer escenario: Philadelphia le gana a todos los top5, son 11 partidos en total\n",
    "nba_1_to_update = nba\n",
    "\n",
    "input_nba_1_to_update = os.path.join(temp_path, 'philadelphia_vs_top_5.in')\n",
    "for i, match in nba_1_to_update.iterrows():\n",
    "    if any(equal_matches(match, lost_match) for lost_match in philadelphia_vs_top_5):\n",
    "        new_game = pd.DataFrame([[match[0], match[1], match[4], match[3], match[2]]], columns = [\"date\", \"team 1\", \"score 1\", \"team 2\", \"score 2\"])\n",
    "        nba_1_to_update = nba_1_to_update.drop([i])\n",
    "        nba_1_to_update = nba_1_to_update.append(new_game)\n",
    "\n",
    "nba_1_to_update.to_csv(\n",
    "    path_or_buf = input_nba_1_to_update, \n",
    "    sep = \" \", \n",
    "    index= False, \n",
    "    header = [str(teams_amount), str(matches_amount), \"\", \"\", \"\"])\n",
    "\n",
    "# Segundo escenario: Philadelphia gana los 5 partidos restantes frente a los últimos y 6 partidos a los top\n",
    "nba_2_to_update = nba\n",
    "input_nba_2_to_update = os.path.join(temp_path, 'philadelphia_vs_last_5.in')\n",
    "count = 6\n",
    "for i, match in nba_2_to_update.iterrows():\n",
    "    if any(equal_matches(match, lost_match) for lost_match in lost_matches):\n",
    "        new_game = pd.DataFrame([[match[0], match[1], match[4], match[3], match[2]]], columns = [\"date\", \"team 1\", \"score 1\", \"team 2\", \"score 2\"])\n",
    "        nba_2_to_update = nba_2_to_update.drop([i])\n",
    "        nba_2_to_update = nba_2_to_update.append(new_game)\n",
    "    if count > 0 and any(equal_matches(match, lost_match) for lost_match in philadelphia_vs_top_5):\n",
    "        new_game = pd.DataFrame([[match[0], match[1], match[4], match[3], match[2]]], columns = [\"date\", \"team 1\", \"score 1\", \"team 2\", \"score 2\"])\n",
    "        nba_2_to_update = nba_2_to_update.drop([i])\n",
    "        nba_2_to_update = nba_2_to_update.append(new_game)\n",
    "        count = count-1\n",
    "\n",
    "nba_2_to_update.to_csv(\n",
    "    path_or_buf = input_nba_2_to_update, \n",
    "    sep = \" \", \n",
    "    index= False, \n",
    "    header = [str(teams_amount), str(matches_amount), \"\", \"\", \"\"])\n",
    "\n",
    "# Tercer escenario: Philadelphia gana los 5 partidos restantes frente a los últimos 5 equipos\n",
    "# pero esta vez por 5 veces el diferencial de puntos... y gana 6 partidos extra frente a los top\n",
    "nba_3_to_update = nba\n",
    "input_nba_3_to_update = os.path.join(temp_path, 'philadelphia_great_performance.in')\n",
    "count = 6\n",
    "for i, match in nba_3_to_update.iterrows():\n",
    "    if any(equal_matches(match, lost_match) for lost_match in lost_matches):\n",
    "        differential = abs(match[4]-match[2])\n",
    "        if match[1] == philadelphia:\n",
    "            philadelphia_score = match[4]+(5*differential)\n",
    "            new_game = pd.DataFrame([[match[0], match[1], philadelphia_score, match[3], match[2]]], columns = [\"date\", \"team 1\", \"score 1\", \"team 2\", \"score 2\"])\n",
    "        else:\n",
    "            philadelphia_score = match[2]+(5*differential)\n",
    "            new_game = pd.DataFrame([[match[0], match[1], match[4], match[3], philadelphia_score]], columns = [\"date\", \"team 1\", \"score 1\", \"team 2\", \"score 2\"])\n",
    "        nba_3_to_update = nba_3_to_update.drop([i])\n",
    "        nba_3_to_update = nba_3_to_update.append(new_game)\n",
    "    if count > 0 and any(equal_matches(match, lost_match) for lost_match in philadelphia_vs_top_5):\n",
    "        new_game = pd.DataFrame([[match[0], match[1], match[4], match[3], match[2]]], columns = [\"date\", \"team 1\", \"score 1\", \"team 2\", \"score 2\"])\n",
    "        nba_3_to_update = nba_3_to_update.drop([i])\n",
    "        nba_3_to_update = nba_3_to_update.append(new_game)\n",
    "        count = count-1\n",
    "\n",
    "nba_3_to_update.to_csv(\n",
    "    path_or_buf = input_nba_3_to_update, \n",
    "    sep = \" \", \n",
    "    index= False, \n",
    "    header = [str(teams_amount), str(matches_amount), \"\", \"\", \"\"])\n",
    "\n",
    "# Corremos los 3 metodos para los 3 escenarios y armamos las tablas\n",
    "run_all(input_nba_1_to_update)\n",
    "nba_colley_new1_ranking = build_nba_comparison_dataframe(input_nba_1_to_update, 'colley', nba_colley_ranking)\n",
    "nba_wp_new1_ranking = build_nba_comparison_dataframe(input_nba_1_to_update, 'wp', nba_wp_ranking)\n",
    "nba_massey_new1_ranking = build_nba_comparison_dataframe(input_nba_1_to_update, 'massey', nba_massey_ranking)\n",
    "\n",
    "run_all(input_nba_2_to_update)\n",
    "nba_colley_new2_ranking = build_nba_comparison_dataframe(input_nba_2_to_update, 'colley', nba_colley_ranking)\n",
    "nba_wp_new2_ranking = build_nba_comparison_dataframe(input_nba_2_to_update, 'wp', nba_wp_ranking)\n",
    "nba_massey_new2_ranking = build_nba_comparison_dataframe(input_nba_2_to_update, 'massey', nba_massey_ranking)\n",
    "\n",
    "run_all(input_nba_3_to_update)\n",
    "nba_colley_new3_ranking = build_nba_comparison_dataframe(input_nba_3_to_update, 'colley', nba_colley_ranking)\n",
    "nba_wp_new3_ranking = build_nba_comparison_dataframe(input_nba_3_to_update, 'wp', nba_wp_ranking)\n",
    "nba_massey_new3_ranking = build_nba_comparison_dataframe(input_nba_3_to_update, 'massey', nba_massey_ranking)"
   ]
  },
  {
   "cell_type": "markdown",
   "metadata": {},
   "source": [
    "## 10) Graficamos el resultado de las estrategias para los metodos correspondientes"
   ]
  },
  {
   "cell_type": "code",
   "execution_count": 67,
   "metadata": {},
   "outputs": [
    {
     "data": {
      "image/png": "[encoded data removed]",
      "text/plain": [
       "<Figure size 720x432 with 2 Axes>"
      ]
     },
     "metadata": {
      "needs_background": "light"
     },
     "output_type": "display_data"
    }
   ],
   "source": [
    "plt.subplots(figsize=(10, 6))\n",
    "\n",
    "# ranking_to_plot\n",
    "#  * escenario 1: victorias de Philadelphia vs Top5\n",
    "#    - {nba_colley_new1_ranking, nba_wp_new1_ranking, nba_massey_new1_ranking}\n",
    "#\n",
    "#  * escenario 2: victorias de Philadelphia vs Last5 y algunos Top5\n",
    "#    - {nba_colley_new2_ranking, nba_wp_new2_ranking, nba_massey_new2_ranking}\n",
    "#\n",
    "#  * escenario 3: victorias de Philadelphia con mejor rendimiento\n",
    "#    - {nba_colley_new3_ranking, nba_wp_new3_ranking, nba_massey_new3_ranking}\n",
    "ranking_to_plot = nba_massey_new3_ranking\n",
    "plot_title = 'Diferencia de ranking en Massey con victorias de Philadelphia con mejor rendimiento'\n",
    "plot_output_file = 'massey_victorias_philadelphia_mejor_rendimiento.png'\n",
    "\n",
    "absmax = np.abs(ranking_to_plot[\"difference\"].values).max()\n",
    "norm = plt.Normalize(-absmax, absmax)\n",
    "cmap = plt.get_cmap(\"coolwarm\")\n",
    "colors = cmap(norm(ranking_to_plot[\"difference\"].values))\n",
    "plt.barh(list(ranking_to_plot.index), ranking_to_plot['difference'], data=ranking_to_plot.reset_index(), color=colors)\n",
    "plt.colorbar(plt.cm.ScalarMappable(norm, cmap))\n",
    "\n",
    "plt.title(plot_title)\n",
    "plt.xlabel('Diferencia de ranking')\n",
    "plt.gca().invert_yaxis()\n",
    "plt.savefig(os.path.join(img_path, plot_output_file))"
   ]
  }
 ],
 "metadata": {
  "colab": {
   "name": "MetNum_tp1.ipynb",
   "provenance": []
  },
  "kernelspec": {
   "display_name": "Python 3",
   "language": "python",
   "name": "python3"
  },
  "language_info": {
   "codemirror_mode": {
    "name": "ipython",
    "version": 3
   },
   "file_extension": ".py",
   "mimetype": "text/x-python",
   "name": "python",
   "nbconvert_exporter": "python",
   "pygments_lexer": "ipython3",
   "version": "3.8.2"
  }
 },
 "nbformat": 4,
 "nbformat_minor": 1
}
