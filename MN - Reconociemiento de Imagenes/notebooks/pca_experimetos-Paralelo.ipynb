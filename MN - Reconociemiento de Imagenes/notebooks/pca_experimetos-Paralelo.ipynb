{
 "cells": [
  {
   "cell_type": "markdown",
   "metadata": {},
   "source": [
    "# Reconocimiento de dígitos con KNN\n",
    "\n"
   ]
  },
  {
   "cell_type": "markdown",
   "metadata": {},
   "source": [
    "Definir los path al ejecutable de python 3.6 y sus librerías,\n",
    "de acuerdo al virtual env que estén corriendo."
   ]
  },
  {
   "cell_type": "code",
   "execution_count": 1,
   "metadata": {
    "ExecuteTime": {
     "end_time": "2020-10-25T23:16:45.519273Z",
     "start_time": "2020-10-25T23:16:28.963460Z"
    }
   },
   "outputs": [
    {
     "name": "stdout",
     "output_type": "stream",
     "text": [
      "-- The C compiler identification is GNU 7.5.0\n",
      "-- The CXX compiler identification is GNU 7.5.0\n",
      "-- Detecting C compiler ABI info\n",
      "-- Detecting C compiler ABI info - done\n",
      "-- Check for working C compiler: /usr/bin/cc - skipped\n",
      "-- Detecting C compile features\n",
      "-- Detecting C compile features - done\n",
      "-- Detecting CXX compiler ABI info\n",
      "-- Detecting CXX compiler ABI info - done\n",
      "-- Check for working CXX compiler: /usr/bin/c++ - skipped\n",
      "-- Detecting CXX compile features\n",
      "-- Detecting CXX compile features - done\n",
      "-- Found PythonInterp: /home/orga2/anaconda3/envs/metodos/bin/python (found version \"3.7.9\") \n",
      "-- Found PythonLibs: /home/orga2/anaconda3/envs/metodos/lib/libpython3.7m.so\n",
      "-- pybind11 v2.2.4\n",
      "-- Performing Test HAS_FLTO\n",
      "-- Performing Test HAS_FLTO - Success\n",
      "-- LTO enabled\n",
      "-- Configuring done\n",
      "-- Generating done\n",
      "-- Build files have been written to: /home/orga2/Materias/MetNum/metodos-numericos-grupo-4/tp2/build\n",
      "Scanning dependencies of target tp2\n",
      "[ 10%] Building CXX object CMakeFiles/tp2.dir/src/main.cpp.o\n",
      "[ 20%] Building CXX object CMakeFiles/tp2.dir/src/knn.cpp.o\n",
      "[ 30%] Building CXX object CMakeFiles/tp2.dir/src/pca.cpp.o\n",
      "[ 40%] Building CXX object CMakeFiles/tp2.dir/src/eigen.cpp.o\n",
      "[ 50%] Linking CXX executable tp2\n",
      "[ 50%] Built target tp2\n",
      "Scanning dependencies of target metnum\n",
      "[ 60%] Building CXX object CMakeFiles/metnum.dir/src/metnum.cpp.o\n",
      "[ 70%] Building CXX object CMakeFiles/metnum.dir/src/knn.cpp.o\n",
      "[ 80%] Building CXX object CMakeFiles/metnum.dir/src/pca.cpp.o\n",
      "[ 90%] Building CXX object CMakeFiles/metnum.dir/src/eigen.cpp.o\n",
      "[100%] Linking CXX shared module metnum.cpython-37m-x86_64-linux-gnu.so\n",
      "[100%] Built target metnum\n",
      "Install the project...\n",
      "-- Install configuration: \"Release\"\n",
      "-- Installing: /home/orga2/Materias/MetNum/metodos-numericos-grupo-4/tp2/notebooks/metnum.cpython-37m-x86_64-linux-gnu.so\n"
     ]
    },
    {
     "name": "stderr",
     "output_type": "stream",
     "text": [
      "mkdir: cannot create directory ‘build’: File exists\n",
      "Release mode\n",
      "CMAKE_INSTALL_PREFIX=/home/orga2/Materias/MetNum/metodos-numericos-grupo-4/tp2\n"
     ]
    }
   ],
   "source": [
    "%%script bash\n",
    "cd .. && mkdir build\n",
    "cd build/ && rm -rf *\n",
    "cmake \\\n",
    "  -DPYTHON_EXECUTABLE=\"$(which python)\" \\\n",
    "  -DCMAKE_BUILD_TYPE=Release ..\n",
    "make install"
   ]
  },
  {
   "cell_type": "code",
   "execution_count": 2,
   "metadata": {
    "ExecuteTime": {
     "end_time": "2020-10-25T23:16:53.631768Z",
     "start_time": "2020-10-25T23:16:53.292730Z"
    }
   },
   "outputs": [
    {
     "name": "stdout",
     "output_type": "stream",
     "text": [
      "/home/orga2/Materias/MetNum/metodos-numericos-grupo-4/tp2/notebooks\n",
      "Python 3.7.9\n"
     ]
    }
   ],
   "source": [
    "# Verifico la correcta instalación. Si no falla el import está OK\n",
    "!pwd\n",
    "!python --version\n",
    "import metnum\n"
   ]
  },
  {
   "cell_type": "markdown",
   "metadata": {},
   "source": [
    "## Explorando los datos"
   ]
  },
  {
   "cell_type": "code",
   "execution_count": 3,
   "metadata": {
    "ExecuteTime": {
     "end_time": "2020-10-25T23:17:00.015644Z",
     "start_time": "2020-10-25T23:16:58.907510Z"
    }
   },
   "outputs": [],
   "source": [
    "%load_ext autoreload\n",
    "%autoreload 2\n",
    "import pandas as pd\n",
    "\n",
    "df_train = pd.read_csv(\"../data/train.csv\")"
   ]
  },
  {
   "cell_type": "markdown",
   "metadata": {},
   "source": [
    "Es un csv, con columnas por cada pixel"
   ]
  },
  {
   "cell_type": "code",
   "execution_count": 4,
   "metadata": {
    "ExecuteTime": {
     "end_time": "2020-10-25T23:17:06.076384Z",
     "start_time": "2020-10-25T23:17:06.064413Z"
    }
   },
   "outputs": [],
   "source": [
    "df_train_reduced = df_train[:5000]"
   ]
  },
  {
   "cell_type": "markdown",
   "metadata": {},
   "source": [
    "Manera de dividir el data set"
   ]
  },
  {
   "cell_type": "code",
   "execution_count": 5,
   "metadata": {
    "ExecuteTime": {
     "end_time": "2020-10-25T23:17:07.310029Z",
     "start_time": "2020-10-25T23:17:07.288264Z"
    }
   },
   "outputs": [
    {
     "data": {
      "text/plain": [
       "((5000, 784), (5000, 1))"
      ]
     },
     "execution_count": 5,
     "metadata": {},
     "output_type": "execute_result"
    }
   ],
   "source": [
    "# Uso values para mandar todo a arrays de numpy\n",
    "X = df_train_reduced[df_train_reduced.columns[1:]].values\n",
    "y = df_train_reduced[\"label\"].values.reshape(-1, 1)\n",
    "\n",
    "X.shape, y.shape"
   ]
  },
  {
   "cell_type": "markdown",
   "metadata": {},
   "source": [
    "Convierto el resto a matrices de 28 x 28"
   ]
  },
  {
   "cell_type": "markdown",
   "metadata": {},
   "source": [
    "A ver cómo se ven..."
   ]
  },
  {
   "cell_type": "code",
   "execution_count": 6,
   "metadata": {
    "ExecuteTime": {
     "end_time": "2020-10-25T23:17:08.510606Z",
     "start_time": "2020-10-25T23:17:08.425955Z"
    }
   },
   "outputs": [
    {
     "name": "stdout",
     "output_type": "stream",
     "text": [
      "Supuestamente es un 1\n"
     ]
    },
    {
     "data": {
      "text/plain": [
       "<matplotlib.image.AxesImage at 0x7f692f35d850>"
      ]
     },
     "execution_count": 6,
     "metadata": {},
     "output_type": "execute_result"
    },
    {
     "data": {
      "image/png": "[encoded data removed]",
      "text/plain": [
       "<Figure size 432x288 with 1 Axes>"
      ]
     },
     "metadata": {
      "needs_background": "light"
     },
     "output_type": "display_data"
    }
   ],
   "source": [
    "import matplotlib.pyplot as plt\n",
    "\n",
    "num = 2\n",
    "\n",
    "print(f\"Supuestamente es un {int(y[num])}\")\n",
    "\n",
    "img = X[num].reshape(28, 28)\n",
    "plt.imshow(img, cmap=\"Greys\")\n"
   ]
  },
  {
   "cell_type": "markdown",
   "metadata": {},
   "source": [
    "### Balance de clases\n",
    "\n",
    "¿Tenemos la misma cantidad de cada número?"
   ]
  },
  {
   "cell_type": "code",
   "execution_count": 7,
   "metadata": {
    "ExecuteTime": {
     "end_time": "2020-10-25T23:17:10.546277Z",
     "start_time": "2020-10-25T23:17:10.533294Z"
    }
   },
   "outputs": [
    {
     "data": {
      "text/plain": [
       "1    0.1116\n",
       "2    0.1090\n",
       "6    0.1032\n",
       "7    0.1012\n",
       "0    0.0988\n",
       "3    0.0960\n",
       "9    0.0956\n",
       "8    0.0954\n",
       "4    0.0954\n",
       "5    0.0938\n",
       "Name: label, dtype: float64"
      ]
     },
     "execution_count": 7,
     "metadata": {},
     "output_type": "execute_result"
    }
   ],
   "source": [
    "df_train_reduced[\"label\"].value_counts(normalize=True)"
   ]
  },
  {
   "cell_type": "code",
   "execution_count": 8,
   "metadata": {},
   "outputs": [
    {
     "name": "stdout",
     "output_type": "stream",
     "text": [
      "Ahora tengo 4000 instancias de entrenamiento y 1000 de validación\n"
     ]
    }
   ],
   "source": [
    "limit = int(0.8 * X.shape[0]) \n",
    "\n",
    "X_train, y_train = X[:limit], y[:limit]\n",
    "X_val, y_val = X[limit:], y[limit:]\n",
    "\n",
    "assert len(X_train) == len(y_train)\n",
    "assert len(X_val) == len(y_val)\n",
    "\n",
    "print(f\"Ahora tengo {len(X_train)} instancias de entrenamiento y {len(X_val)} de validación\")"
   ]
  },
  {
   "cell_type": "markdown",
   "metadata": {},
   "source": [
    "No: tenemos más 1 que 5, pero tampoco está tan desbalanceado"
   ]
  },
  {
   "cell_type": "code",
   "execution_count": 9,
   "metadata": {},
   "outputs": [
    {
     "ename": "KeyboardInterrupt",
     "evalue": "",
     "output_type": "error",
     "traceback": [
      "\u001b[0;31m---------------------------------------------------------------------------\u001b[0m",
      "\u001b[0;31mKeyboardInterrupt\u001b[0m                         Traceback (most recent call last)",
      "\u001b[0;32m<ipython-input-9-89ec7153c4b0>\u001b[0m in \u001b[0;36m<module>\u001b[0;34m\u001b[0m\n\u001b[1;32m     12\u001b[0m     \u001b[0mclf\u001b[0m \u001b[0;34m=\u001b[0m \u001b[0mmetnum\u001b[0m\u001b[0;34m.\u001b[0m\u001b[0mKNNClassifier\u001b[0m\u001b[0;34m(\u001b[0m\u001b[0mi\u001b[0m\u001b[0;34m)\u001b[0m\u001b[0;34m\u001b[0m\u001b[0;34m\u001b[0m\u001b[0m\n\u001b[1;32m     13\u001b[0m     \u001b[0mclf\u001b[0m\u001b[0;34m.\u001b[0m\u001b[0mfit\u001b[0m\u001b[0;34m(\u001b[0m\u001b[0mX_train\u001b[0m\u001b[0;34m,\u001b[0m \u001b[0my_train\u001b[0m\u001b[0;34m)\u001b[0m\u001b[0;34m\u001b[0m\u001b[0;34m\u001b[0m\u001b[0m\n\u001b[0;32m---> 14\u001b[0;31m     \u001b[0my_pred\u001b[0m \u001b[0;34m=\u001b[0m \u001b[0mclf\u001b[0m\u001b[0;34m.\u001b[0m\u001b[0mpredict\u001b[0m\u001b[0;34m(\u001b[0m\u001b[0mX_val\u001b[0m\u001b[0;34m)\u001b[0m\u001b[0;34m\u001b[0m\u001b[0;34m\u001b[0m\u001b[0m\n\u001b[0m\u001b[1;32m     15\u001b[0m     \u001b[0mknn_acc\u001b[0m \u001b[0;34m=\u001b[0m \u001b[0maccuracy_score\u001b[0m\u001b[0;34m(\u001b[0m\u001b[0my_val\u001b[0m\u001b[0;34m,\u001b[0m \u001b[0my_pred\u001b[0m\u001b[0;34m)\u001b[0m\u001b[0;34m\u001b[0m\u001b[0;34m\u001b[0m\u001b[0m\n\u001b[1;32m     16\u001b[0m     \u001b[0mknn\u001b[0m\u001b[0;34m.\u001b[0m\u001b[0mappend\u001b[0m\u001b[0;34m(\u001b[0m\u001b[0mknn_acc\u001b[0m\u001b[0;34m)\u001b[0m\u001b[0;34m\u001b[0m\u001b[0;34m\u001b[0m\u001b[0m\n",
      "\u001b[0;31mKeyboardInterrupt\u001b[0m: "
     ]
    }
   ],
   "source": [
    "from sklearn.neighbors import KNeighborsClassifier\n",
    "from sklearn.metrics import accuracy_score\n",
    "import numpy as np\n",
    "\n",
    "knn = []\n",
    "sklearn_knn = []\n",
    "metric = []\n",
    "\n",
    "# Acá pueden cambiar el clasificador nuestro por el de sklearn!\n",
    "for i in range(5, 300, 5):\n",
    "\n",
    "    clf = metnum.KNNClassifier(i)\n",
    "    clf.fit(X_train, y_train)\n",
    "    y_pred = clf.predict(X_val)\n",
    "    knn_acc = accuracy_score(y_val, y_pred)\n",
    "    knn.append(knn_acc)\n",
    "\n",
    "    clf2 = KNeighborsClassifier(i)\n",
    "    clf2.fit(X_train, y_train.ravel())\n",
    "    y_pred = clf2.predict(X_val)\n",
    "    sklearn_acc = accuracy_score(y_val, y_pred)\n",
    "    sklearn_knn.append(sklearn_acc)\n",
    "\n",
    "    metric.append(i)"
   ]
  },
  {
   "cell_type": "code",
   "execution_count": null,
   "metadata": {},
   "outputs": [],
   "source": [
    "import matplotlib.pyplot as plt\n",
    "plt.plot(metric, knn)\n",
    "plt.plot(metric, sklearn_knn)"
   ]
  },
  {
   "cell_type": "code",
   "execution_count": null,
   "metadata": {},
   "outputs": [],
   "source": [
    "plt.plot(metric, sklearn_knn)"
   ]
  },
  {
   "cell_type": "code",
   "execution_count": null,
   "metadata": {},
   "outputs": [],
   "source": [
    "knn_max = []\n",
    "sklearn_knn_max = []\n",
    "metric_max = []\n",
    "\n",
    "for i in range(1, 15):\n",
    "\n",
    "    clf = metnum.KNNClassifier(i)\n",
    "    clf.fit(X_train, y_train)\n",
    "    y_pred = clf.predict(X_val)\n",
    "    knn_acc = accuracy_score(y_val, y_pred)\n",
    "    knn_max.append(knn_acc)\n",
    "\n",
    "    clf2 = KNeighborsClassifier(i)\n",
    "    clf2.fit(X_train, y_train.ravel())\n",
    "    y_pred = clf2.predict(X_val)\n",
    "    sklearn_acc = accuracy_score(y_val, y_pred)\n",
    "    sklearn_knn_max.append(sklearn_acc)\n",
    "\n",
    "    metric_max.append(i)"
   ]
  },
  {
   "cell_type": "code",
   "execution_count": null,
   "metadata": {},
   "outputs": [],
   "source": [
    "plt.plot(metric_max, knn_max)"
   ]
  },
  {
   "cell_type": "code",
   "execution_count": null,
   "metadata": {},
   "outputs": [],
   "source": [
    "plt.plot(metric_max, sklearn_knn_max)"
   ]
  },
  {
   "cell_type": "code",
   "execution_count": null,
   "metadata": {},
   "outputs": [],
   "source": [
    "import metnum\n",
    "pca_acc = []\n",
    "metric_value = []\n",
    "for i in range(10, 600, 10):\n",
    "    \n",
    "    pca = metnum.PCA(i)\n",
    "    pca.fit(X_train)\n",
    "    X = pca.transform(X_train)\n",
    "    Y = pca.transform(X_val)\n",
    "    \n",
    "    clf = metnum.KNNClassifier(8)\n",
    "    clf.fit(X, y_train)\n",
    "    y_pred = clf.predict(Y)\n",
    "    acc = accuracy_score(y_val, y_pred)\n",
    "    pca_acc.append(acc)\n",
    "\n",
    "    metric_value.append(i)"
   ]
  },
  {
   "cell_type": "code",
   "execution_count": null,
   "metadata": {},
   "outputs": [],
   "source": [
    "#plt.plot(metric_value, pca_acc)\n",
    "import matplotlib.pyplot as plt\n",
    "# Data for plotting\n",
    "\n",
    "\n",
    "fig, ax = plt.subplots()\n",
    "ax.plot(metric_values, pca_acc, \"o-\")\n",
    "\n",
    "ax.set(xlabel='PCA', ylabel='Accuracy',\n",
    "       title='Analisis preliminar del comportamiento de PCA')\n",
    "ax.grid()\n",
    "\n",
    "fig.savefig(\"pca_exp1.png\")\n",
    "plt.show()"
   ]
  },
  {
   "cell_type": "code",
   "execution_count": null,
   "metadata": {},
   "outputs": [],
   "source": [
    "%%time\n",
    "pca_acc2 = []\n",
    "metric_value2 = []\n",
    "for i in range(5, 100, 5):\n",
    "    \n",
    "    pca = metnum.PCA(i)\n",
    "    pca.fit(X_train)\n",
    "    X = pca.transform(X_train)\n",
    "    Y = pca.transform(X_val)\n",
    "    \n",
    "    clf = metnum.KNNClassifier(8)\n",
    "    clf.fit(X, y_train)\n",
    "    y_pred = clf.predict(Y)\n",
    "    acc = accuracy_score(y_val, y_pred)\n",
    "    pca_acc2.append(acc)\n",
    "\n",
    "    metric_value2.append(i)"
   ]
  },
  {
   "cell_type": "code",
   "execution_count": null,
   "metadata": {},
   "outputs": [],
   "source": [
    "#plt.plot(metric_value2, pca_acc2)\n",
    "fig, ax = plt.subplots()\n",
    "ax.plot(metric_values2, pca_acc2, \"o-\")\n",
    "\n",
    "ax.set(xlabel='PCA', ylabel='Accuracy',\n",
    "       title='Analisis preliminar del comportamiento de PCA')\n",
    "ax.grid()\n",
    "\n",
    "fig.savefig(\"pca_exp2.png\")\n",
    "plt.show()"
   ]
  },
  {
   "cell_type": "code",
   "execution_count": null,
   "metadata": {},
   "outputs": [],
   "source": [
    "#plt.plot(metric_value2[3:], pca_acc2[3:])\n",
    "fig, ax = plt.subplots()\n",
    "ax.plot(metric_values2[3:], pca_acc2[3:], \"o-\")\n",
    "\n",
    "ax.set(xlabel='PCA', ylabel='Accuracy',\n",
    "       title='Analisis preliminar del comportamiento de PCA')\n",
    "ax.grid()\n",
    "\n",
    "fig.savefig(\"pca_exp2_reduced.png\")\n",
    "plt.show()"
   ]
  },
  {
   "cell_type": "code",
   "execution_count": null,
   "metadata": {},
   "outputs": [],
   "source": [
    "%%time\n",
    "pca_acc3 = []\n",
    "metric_value3 = []\n",
    "for i in range(30, 40):\n",
    "    \n",
    "    pca = metnum.PCA(i)\n",
    "    pca.fit(X_train)\n",
    "    X = pca.transform(X_train)\n",
    "    Y = pca.transform(X_val)\n",
    "    \n",
    "    clf = metnum.KNNClassifier(8)\n",
    "    clf.fit(X, y_train)\n",
    "    y_pred = clf.predict(Y)\n",
    "    acc = accuracy_score(y_val, y_pred)\n",
    "    pca_acc3.append(acc)\n",
    "\n",
    "    metric_value3.append(i)"
   ]
  },
  {
   "cell_type": "code",
   "execution_count": null,
   "metadata": {},
   "outputs": [],
   "source": [
    "#plt.plot(metric_value3, pca_acc3)\n",
    "fig, ax = plt.subplots()\n",
    "ax.plot(metric_values3, pca_acc3, \"o-\")\n",
    "\n",
    "ax.set(xlabel='PCA', ylabel='Accuracy',\n",
    "       title='Analisis preliminar del comportamiento de PCA')\n",
    "ax.grid()\n",
    "\n",
    "fig.savefig(\"pca_exp3.png\")\n",
    "plt.show()"
   ]
  },
  {
   "cell_type": "code",
   "execution_count": null,
   "metadata": {},
   "outputs": [],
   "source": [
    "np.argmax(pca_acc3)"
   ]
  },
  {
   "cell_type": "code",
   "execution_count": null,
   "metadata": {},
   "outputs": [],
   "source": [
    "pca_acc3[4]"
   ]
  },
  {
   "cell_type": "code",
   "execution_count": null,
   "metadata": {},
   "outputs": [],
   "source": [
    "X = df_train[df_train.columns[1:]].values\n",
    "y = df_train[\"label\"].values.reshape(-1, 1)\n",
    "\n",
    "limit = int(0.8 * X.shape[0]) \n",
    "\n",
    "X_train, y_train = X[:limit], y[:limit]\n",
    "X_val, y_val = X[limit:], y[limit:]"
   ]
  },
  {
   "cell_type": "code",
   "execution_count": null,
   "metadata": {},
   "outputs": [],
   "source": [
    "%%time\n",
    "\n",
    "pca = metnum.PCA(34)\n",
    "pca.fit(X_train)\n",
    "X = pca.transform(X_train)\n",
    "Y = pca.transform(X_val)\n",
    "    \n",
    "clf = metnum.KNNClassifier(8)\n",
    "clf.fit(X, y_train)\n",
    "y_pred = clf.predict(Y)\n",
    "acc = accuracy_score(y_val, y_pred)\n",
    "acc"
   ]
  },
  {
   "cell_type": "code",
   "execution_count": null,
   "metadata": {},
   "outputs": [],
   "source": [
    "X = df_train[df_train.columns[1:]].values\n",
    "y = df_train[\"label\"].values.reshape(-1, 1)\n",
    "\n",
    "limit = int(0.9 * X.shape[0]) \n",
    "\n",
    "X_train, y_train = X[:limit], y[:limit]\n",
    "X_val, y_val = X[limit:], y[limit:]"
   ]
  },
  {
   "cell_type": "code",
   "execution_count": null,
   "metadata": {},
   "outputs": [],
   "source": [
    "%%time\n",
    "\n",
    "pca = metnum.PCA(34)\n",
    "pca.fit(X_train)\n",
    "X = pca.transform(X_train)\n",
    "Y = pca.transform(X_val)\n",
    "    \n",
    "clf = metnum.KNNClassifier(8)\n",
    "clf.fit(X, y_train)\n",
    "y_pred = clf.predict(Y)\n",
    "acc = accuracy_score(y_val, y_pred)\n",
    "acc"
   ]
  },
  {
   "cell_type": "code",
   "execution_count": null,
   "metadata": {},
   "outputs": [],
   "source": [
    "X = df_train[df_train.columns[1:]].values\n",
    "y = df_train[\"label\"].values.reshape(-1, 1)\n",
    "\n",
    "limit = int(0.80 * X.shape[0]) \n",
    "\n",
    "X_train, y_train = X[:limit], y[:limit]\n",
    "X_val, y_val = X[limit:], y[limit:]"
   ]
  },
  {
   "cell_type": "code",
   "execution_count": null,
   "metadata": {},
   "outputs": [],
   "source": [
    "%%time\n",
    "\n",
    "pca = metnum.PCA(34)\n",
    "pca.fit(X_train)\n",
    "X = pca.transform(X_train)\n",
    "Y = pca.transform(X_val)"
   ]
  },
  {
   "cell_type": "code",
   "execution_count": null,
   "metadata": {},
   "outputs": [],
   "source": [
    "%%time\n",
    "\n",
    "clf = metnum.KNNClassifier(8)\n",
    "clf.fit(X, y_train)\n",
    "y_pred = clf.predict(Y)\n",
    "acc = accuracy_score(y_val, y_pred)\n",
    "acc"
   ]
  },
  {
   "cell_type": "code",
   "execution_count": null,
   "metadata": {},
   "outputs": [],
   "source": [
    "from sklearn.metrics import precision_score, recall_score, confusion_matrix\n",
    "print(precision_score(y_val, y_pred, average = \"macro\"))\n",
    "print(recall_score(y_val, y_pred, average = \"macro\"))\n",
    "print(confusion_matrix(y_val, y_pred))"
   ]
  },
  {
   "cell_type": "code",
   "execution_count": null,
   "metadata": {},
   "outputs": [],
   "source": [
    "%%time\n",
    "from KFoldXValidation import KfoldXvalidation\n",
    "analisis = KfoldXvalidation(df_train, 5, 3, 34)"
   ]
  },
  {
   "cell_type": "code",
   "execution_count": null,
   "metadata": {},
   "outputs": [],
   "source": [
    "print(analisis.accuracy())\n",
    "print(analisis.precision())\n",
    "print(analisis.recall())"
   ]
  },
  {
   "cell_type": "code",
   "execution_count": null,
   "metadata": {},
   "outputs": [],
   "source": [
    "import seaborn as sns\n",
    "from matplotlib.colors import LogNorm\n",
    "ax = sns.heatmap(analisis.confusion_matrix()[2], norm=LogNorm(), cmap=\"Blues\")\n",
    "ax.set(xlabel='test labels', ylabel='predictions', title=\"Confusion Matrix Heatmap (log scale)\")\n",
    "plt.savefig(\"confusion_matrix_heatmap_log.png\")\n",
    "plt.show()\n",
    "print(analisis.confusion_matrix()[2])"
   ]
  },
  {
   "cell_type": "code",
   "execution_count": null,
   "metadata": {},
   "outputs": [],
   "source": [
    "ax = sns.heatmap(analisis.confusion_matrix()[2], cmap=\"Blues\")\n",
    "ax.set(xlabel='test labels', ylabel='predictions', title=\"Confusion Matrix Heatmap\")\n",
    "plt.show\n",
    "print(analisis.confusion_matrix()[2])"
   ]
  },
  {
   "cell_type": "code",
   "execution_count": 11,
   "metadata": {},
   "outputs": [],
   "source": [
    "df_sizes=[100, 500, 1000, 3000, 5000, 10000, 20000, 30000, 42000]\n",
    "pca_ranges = [10, 20, 30, 40, 50]"
   ]
  },
  {
   "cell_type": "code",
   "execution_count": null,
   "metadata": {},
   "outputs": [],
   "source": [
    "%%time\n",
    "accuracies_lists = []\n",
    "for i in df_sizes:\n",
    "    df_train_i = df_train[:i]\n",
    "    X = df_train_i[df_train_i.columns[1:]].values\n",
    "    y = df_train_i[\"label\"].values.reshape(-1, 1)\n",
    "\n",
    "    limit = int(0.8 * X.shape[0]) \n",
    "\n",
    "    X_train, y_train = X[:limit], y[:limit]\n",
    "    X_val, y_val = X[limit:], y[limit:]\n",
    "    \n",
    "    accuracies = []\n",
    "    \n",
    "    for j in range(10, 51, 10):\n",
    "        pca = metnum.PCA(j)\n",
    "        pca.fit(X_train)\n",
    "        X = pca.transform(X_train)\n",
    "        Y = pca.transform(X_val)\n",
    "        \n",
    "        clf = metnum.KNNClassifier(6)\n",
    "        clf.fit(X, y_train)\n",
    "        y_pred = clf.predict(Y)\n",
    "        acc = accuracy_score(y_val, y_pred)\n",
    "        \n",
    "        accuracies.append(acc)\n",
    "    \n",
    "    accuracies_lists.append(accuracies)\n",
    "    "
   ]
  },
  {
   "cell_type": "code",
   "execution_count": null,
   "metadata": {},
   "outputs": [],
   "source": [
    "plt.figure(figsize=[10, 10])\n",
    "for i in range(0, len(df_sizes)):\n",
    "    plt.plot(pca_ranges, accuracies_lists[i])"
   ]
  },
  {
   "cell_type": "code",
   "execution_count": null,
   "metadata": {},
   "outputs": [],
   "source": [
    "%%time\n",
    "import metnum\n",
    "from tqdm import tqdm\n",
    "accuracies_lists2 = []\n",
    "pca_ranges2 = range(31, 39)\n",
    "for i in df_sizes:\n",
    "    df_train_i = df_train[:i]\n",
    "    X = df_train_i[df_train_i.columns[1:]].values\n",
    "    y = df_train_i[\"label\"].values.reshape(-1, 1)\n",
    "\n",
    "    limit = int(0.8 * X.shape[0]) \n",
    "\n",
    "    X_train, y_train = X[:limit], y[:limit]\n",
    "    X_val, y_val = X[limit:], y[limit:]\n",
    "    \n",
    "    accuracies2 = []\n",
    "    \n",
    "    for j in tqdm(range(31, 39)):\n",
    "        pca = metnum.PCA(j)\n",
    "        pca.fit(X_train)\n",
    "        X = pca.transform(X_train)\n",
    "        Y = pca.transform(X_val)\n",
    "        \n",
    "        clf = metnum.KNNClassifier(3)\n",
    "        clf.fit(X, y_train)\n",
    "        y_pred = clf.predict(Y)\n",
    "        acc = accuracy_score(y_val, y_pred)\n",
    "        \n",
    "        accuracies2.append(acc)\n",
    "    \n",
    "    accuracies_lists2.append(accuracies2)"
   ]
  },
  {
   "cell_type": "code",
   "execution_count": null,
   "metadata": {},
   "outputs": [],
   "source": [
    "plt.figure(figsize=[10, 10])\n",
    "for i in range(0, len(df_sizes)):\n",
    "    plt.plot(pca_ranges2, accuracies_lists2[i], marker = \"o-\",  label = str(df_sizes[i]))\n",
    "\n",
    "plt.xlabel('PCA')\n",
    "plt.ylabel('Accuracy')\n",
    "plt.legend()\n"
   ]
  },
  {
   "cell_type": "code",
   "execution_count": null,
   "metadata": {},
   "outputs": [],
   "source": [
    "for x in accuracies_lists2:\n",
    "    print(pca_ranges2[np.argmax(x)])"
   ]
  },
  {
   "cell_type": "code",
   "execution_count": 16,
   "metadata": {},
   "outputs": [
    {
     "name": "stderr",
     "output_type": "stream",
     "text": [
      "  0%|          | 0/8 [00:00<?, ?it/s]/home/orga2/anaconda3/envs/metodos/lib/python3.7/site-packages/sklearn/metrics/classification.py:1145: UndefinedMetricWarning: Recall is ill-defined and being set to 0.0 in labels with no true samples.\n",
      "  'recall', 'true', average, warn_for)\n",
      "100%|██████████| 8/8 [03:04<00:00, 23.07s/it]\n",
      "100%|██████████| 8/8 [02:50<00:00, 21.30s/it]\n",
      "100%|██████████| 8/8 [03:00<00:00, 22.56s/it]\n",
      "100%|██████████| 8/8 [02:56<00:00, 22.04s/it]\n",
      "100%|██████████| 8/8 [03:24<00:00, 25.50s/it]\n",
      "100%|██████████| 8/8 [03:58<00:00, 29.79s/it]\n",
      "100%|██████████| 8/8 [07:08<00:00, 53.56s/it]\n",
      "100%|██████████| 8/8 [14:02<00:00, 105.36s/it]\n",
      "100%|██████████| 8/8 [23:52<00:00, 179.07s/it]"
     ]
    },
    {
     "name": "stdout",
     "output_type": "stream",
     "text": [
      "CPU times: user 1h 3min 45s, sys: 45.4 s, total: 1h 4min 31s\n",
      "Wall time: 1h 4min 18s\n"
     ]
    },
    {
     "name": "stderr",
     "output_type": "stream",
     "text": [
      "\n"
     ]
    }
   ],
   "source": [
    "%%time\n",
    "from tqdm import tqdm\n",
    "import metnum\n",
    "from KFoldXValidation import KfoldXvalidation\n",
    "accuracies_lists3 = []\n",
    "pca_ranges3 = range(31, 39)\n",
    "for i in df_sizes:\n",
    "    df_train_i = df_train[:i]\n",
    "    \n",
    "    accuracies3 = []\n",
    "    \n",
    "    for j in tqdm(range(31, 39)):\n",
    "        analisis = KfoldXvalidation(df_train_i, 5, 3, j)\n",
    "        \n",
    "        accuracies3.append(analisis.average_accuracy())\n",
    "     \n",
    "    accuracies_lists3.append(accuracies3)"
   ]
  },
  {
   "cell_type": "code",
   "execution_count": 32,
   "metadata": {},
   "outputs": [
    {
     "data": {
      "text/plain": [
       "<matplotlib.legend.Legend at 0x7f6919e6d0d0>"
      ]
     },
     "execution_count": 32,
     "metadata": {},
     "output_type": "execute_result"
    },
    {
     "data": {
      "image/png": "[encoded data removed]",
      "text/plain": [
       "<Figure size 720x720 with 1 Axes>"
      ]
     },
     "metadata": {
      "needs_background": "light"
     },
     "output_type": "display_data"
    }
   ],
   "source": [
    "plt.figure(figsize=[10, 10])\n",
    "for i in range(6, len(df_sizes)):\n",
    "    plt.plot(pca_ranges3, accuracies_lists3[i], label = str(df_sizes[i]))\n",
    "\n",
    "#plt.plot(pca_ranges3, accuracies_lists3[4], label = str(df_sizes[i]))\n",
    "plt.grid()\n",
    "plt.xlabel('PCA')\n",
    "plt.ylabel('Accuracy')\n",
    "plt.legend()"
   ]
  },
  {
   "cell_type": "code",
   "execution_count": 28,
   "metadata": {},
   "outputs": [
    {
     "name": "stdout",
     "output_type": "stream",
     "text": [
      "31\n",
      "32\n",
      "38\n",
      "33\n",
      "31\n",
      "35\n",
      "38\n",
      "35\n",
      "35\n"
     ]
    }
   ],
   "source": [
    "for x in accuracies_lists3:\n",
    "    print(pca_ranges3[np.argmax(x)])"
   ]
  },
  {
   "cell_type": "code",
   "execution_count": null,
   "metadata": {},
   "outputs": [],
   "source": [
    "%%time\n",
    "from KFoldXValidation import KfoldXvalidation\n",
    "from tqdm import tqdm\n",
    "\n",
    "metric_Kfold_experiment = []\n",
    "average_accuracy_Kfold_experiment = []\n",
    "average_precision_Kfold_experiment = []\n",
    "average_recall_Kfold_experiment = []\n",
    "\n",
    "for i in tqdm(range(2, 100)):\n",
    "    analisis = KfoldXvalidation(df_train, i, 3, 34)\n",
    "    \n",
    "    metric_Kfold_experiment.append(i)\n",
    "    average_accuracy_Kfold_experiment.append(analisis.average_accuracy())\n",
    "    average_precision_Kfold_experiment.append(analisis.average_precision())\n",
    "    average_recall_Kfold_experiment.append(analisis.average_recall())"
   ]
  },
  {
   "cell_type": "code",
   "execution_count": null,
   "metadata": {},
   "outputs": [],
   "source": []
  },
  {
   "cell_type": "code",
   "execution_count": null,
   "metadata": {},
   "outputs": [],
   "source": [
    "plt.plot(metric_Kfold_experiment, average_accuracy_Kfold_experiment)\n",
    "plt.plot(metric_Kfold_experiment, average_precision_Kfold_experiment)\n",
    "plt.plot(metric_Kfold_experiment, average_recall_Kfold_experiment)\n",
    "metric_Kfold_experiment[28]"
   ]
  },
  {
   "cell_type": "code",
   "execution_count": null,
   "metadata": {},
   "outputs": [],
   "source": [
    "plt.plot(metric_Kfold_experiment[15:], average_accuracy_Kfold_experiment[15:])\n",
    "plt.plot(metric_Kfold_experiment[15:], average_precision_Kfold_experiment[15:])\n",
    "plt.plot(metric_Kfold_experiment[15:], average_recall_Kfold_experiment[15:])\n",
    "metric_Kfold_experiment[28]"
   ]
  },
  {
   "cell_type": "code",
   "execution_count": null,
   "metadata": {},
   "outputs": [],
   "source": [
    "plt.plot(metric_Kfold_experiment, average_accuracy_Kfold_experiment)"
   ]
  },
  {
   "cell_type": "code",
   "execution_count": null,
   "metadata": {},
   "outputs": [],
   "source": [
    "plt.plot(metric_Kfold_experiment, average_precision_Kfold_experiment)"
   ]
  },
  {
   "cell_type": "code",
   "execution_count": null,
   "metadata": {},
   "outputs": [],
   "source": [
    "plt.plot(metric_Kfold_experiment, average_recall_Kfold_experiment)"
   ]
  },
  {
   "cell_type": "code",
   "execution_count": null,
   "metadata": {},
   "outputs": [],
   "source": [
    "%%time\n",
    "metric_Kfold_experiment2 = []\n",
    "average_accuracy_Kfold_experiment2 = []\n",
    "average_precision_Kfold_experiment2 = []\n",
    "average_recall_Kfold_experiment2 = []\n",
    "\n",
    "for i in tqdm(range(43, 50)):\n",
    "    analisis = KfoldXvalidation(df_train, i, 3, 34)\n",
    "    \n",
    "    metric_Kfold_experiment2.append(i)\n",
    "    average_accuracy_Kfold_experiment2.append(analisis.average_accuracy())\n",
    "    average_precision_Kfold_experiment2.append(analisis.average_precision())\n",
    "    average_recall_Kfold_experiment2.append(analisis.average_recall())"
   ]
  },
  {
   "cell_type": "code",
   "execution_count": null,
   "metadata": {},
   "outputs": [],
   "source": [
    "plt.plot(metric_Kfold_experiment2, average_precision_Kfold_experiment2)"
   ]
  },
  {
   "cell_type": "code",
   "execution_count": 43,
   "metadata": {},
   "outputs": [],
   "source": [
    "from sklearn.metrics import accuracy_score, confusion_matrix, precision_score, recall_score\n",
    "import seaborn as sns\n",
    "from matplotlib.colors import LogNorm\n",
    "df_train = pd.read_csv(\"../data/train.csv\")\n",
    "X = df_train[df_train.columns[1:]].values\n",
    "y = df_train[\"label\"].values.reshape(-1, 1)\n",
    "\n",
    "limit = int(0.8 * X.shape[0]) \n",
    "\n",
    "X_train, y_train = X[:limit], y[:limit]\n",
    "X_val, y_val = X[limit:], y[limit:]"
   ]
  },
  {
   "cell_type": "code",
   "execution_count": 44,
   "metadata": {},
   "outputs": [
    {
     "name": "stdout",
     "output_type": "stream",
     "text": [
      "CPU times: user 9.45 s, sys: 494 ms, total: 9.95 s\n",
      "Wall time: 10 s\n"
     ]
    }
   ],
   "source": [
    "%%time\n",
    "pca = metnum.PCA(34)\n",
    "pca.fit(X_train)\n",
    "X = pca.transform(X_train)\n",
    "Y = pca.transform(X_val)\n",
    "clf = metnum.KNNClassifier(3)\n",
    "clf.fit(X, y_train)"
   ]
  },
  {
   "cell_type": "code",
   "execution_count": 45,
   "metadata": {},
   "outputs": [
    {
     "name": "stdout",
     "output_type": "stream",
     "text": [
      "CPU times: user 30.6 s, sys: 173 ms, total: 30.8 s\n",
      "Wall time: 30.7 s\n"
     ]
    }
   ],
   "source": [
    "%%time\n",
    "y_pred2 = clf.predict(Y)"
   ]
  },
  {
   "cell_type": "code",
   "execution_count": 46,
   "metadata": {},
   "outputs": [
    {
     "name": "stdout",
     "output_type": "stream",
     "text": [
      "0.974047619047619\n",
      "0.9736776402081052\n",
      "0.9740935810042618\n"
     ]
    },
    {
     "data": {
      "image/png": "[encoded data removed]",
      "text/plain": [
       "<Figure size 432x288 with 2 Axes>"
      ]
     },
     "metadata": {
      "needs_background": "light"
     },
     "output_type": "display_data"
    }
   ],
   "source": [
    "confusion_matrix(y_val,y_pred2)\n",
    "sns.heatmap(confusion_matrix(y_val,y_pred2), cmap = \"Blues\", norm = LogNorm(), annot= True, fmt = 'd', linewidths = '1')\n",
    "plt.xlabel('Real value')\n",
    "plt.ylabel('Prediction')\n",
    "print(accuracy_score(y_pred2, y_val))\n",
    "print(precision_score(y_pred2, y_val, average = \"macro\"))\n",
    "print(recall_score(y_pred2, y_val, average = \"macro\"))"
   ]
  },
  {
   "cell_type": "code",
   "execution_count": 47,
   "metadata": {},
   "outputs": [
    {
     "name": "stdout",
     "output_type": "stream",
     "text": [
      "CPU times: user 126 ms, sys: 197 ms, total: 323 ms\n",
      "Wall time: 323 ms\n"
     ]
    }
   ],
   "source": [
    "%%time\n",
    "clf = metnum.KNNClassifier(3)\n",
    "clf.fit(X_train, y_train)"
   ]
  },
  {
   "cell_type": "code",
   "execution_count": 48,
   "metadata": {},
   "outputs": [
    {
     "name": "stdout",
     "output_type": "stream",
     "text": [
      "CPU times: user 2min 40s, sys: 668 ms, total: 2min 41s\n",
      "Wall time: 2min 40s\n"
     ]
    }
   ],
   "source": [
    "%%time\n",
    "y_pred = clf.predict(X_val)"
   ]
  },
  {
   "cell_type": "code",
   "execution_count": 49,
   "metadata": {},
   "outputs": [
    {
     "name": "stdout",
     "output_type": "stream",
     "text": [
      "0.9695238095238096\n",
      "0.9686733164680661\n",
      "0.9703460043541028\n"
     ]
    },
    {
     "data": {
      "image/png": "[encoded data removed]",
      "text/plain": [
       "<Figure size 432x288 with 2 Axes>"
      ]
     },
     "metadata": {
      "needs_background": "light"
     },
     "output_type": "display_data"
    }
   ],
   "source": [
    "confusion_matrix(y_val,y_pred)\n",
    "sns.heatmap(confusion_matrix(y_val,y_pred), cmap = \"Blues\", norm = LogNorm(), annot= True, fmt = 'd', linewidths = '1')\n",
    "plt.xlabel('Real value')\n",
    "plt.ylabel('Prediction')\n",
    "print(accuracy_score(y_pred, y_val))\n",
    "print(precision_score(y_pred, y_val, average = \"macro\"))\n",
    "print(recall_score(y_pred, y_val, average = \"macro\"))"
   ]
  },
  {
   "cell_type": "code",
   "execution_count": 76,
   "metadata": {},
   "outputs": [
    {
     "name": "stdout",
     "output_type": "stream",
     "text": [
      "CPU times: user 16min 55s, sys: 5.37 s, total: 17min\n",
      "Wall time: 16min 52s\n"
     ]
    }
   ],
   "source": [
    "%%time\n",
    "analisis1 = KfoldXvalidation(df_train, 5, 3, 0)"
   ]
  },
  {
   "cell_type": "code",
   "execution_count": 77,
   "metadata": {},
   "outputs": [
    {
     "name": "stdout",
     "output_type": "stream",
     "text": [
      "CPU times: user 4min 19s, sys: 3.47 s, total: 4min 22s\n",
      "Wall time: 4min 21s\n"
     ]
    }
   ],
   "source": [
    "%%time\n",
    "analisis2 = KfoldXvalidation(df_train, 5, 3, 34)"
   ]
  },
  {
   "cell_type": "code",
   "execution_count": 80,
   "metadata": {},
   "outputs": [
    {
     "name": "stdout",
     "output_type": "stream",
     "text": [
      "accuracies kNN 3 sin PCA: [0.97, 0.9672619047619048, 0.9627380952380953, 0.9638095238095238, 0.9695238095238096]\n",
      "average accuracy kNN 3 sin PCA: 0.9666666666666668\n",
      "precisions kNN 3 sin PCA: [0.9703153761645644, 0.9677006417485853, 0.9631692409847729, 0.9643175315923294, 0.9703460043541028]\n",
      "average precision kNN 3 sin PCA: 0.967169758968871\n",
      "recalls kNN 3 sin PCA: [0.9695998530005079, 0.9667248219820103, 0.9623004415009465, 0.9635010679620001, 0.9686733164680661]\n",
      "average accuracy kNN 3 sin PCA: 0.9661599001827061\n"
     ]
    }
   ],
   "source": [
    "print(\"accuracies kNN 3 sin PCA:\", analisis1.accuracy())\n",
    "print(\"average accuracy kNN 3 sin PCA:\", analisis1.average_accuracy())\n",
    "print(\"precisions kNN 3 sin PCA:\", analisis1.precision())\n",
    "print(\"average precision kNN 3 sin PCA:\", analisis1.average_precision())\n",
    "print(\"recalls kNN 3 sin PCA:\", analisis1.recall())\n",
    "print(\"average accuracy kNN 3 sin PCA:\", analisis1.average_recall())"
   ]
  },
  {
   "cell_type": "code",
   "execution_count": 81,
   "metadata": {},
   "outputs": [
    {
     "name": "stdout",
     "output_type": "stream",
     "text": [
      "accuracies kNN 3 con PCA: [0.9744047619047619, 0.9773809523809524, 0.968452380952381, 0.971547619047619, 0.974047619047619]\n",
      "average accuracy kNN 3 con PCA: 0.9731666666666665\n",
      "precisions kNN 3 con PCA: [0.97442816463101, 0.9774683364580088, 0.9683542234859521, 0.9717207821293687, 0.9740935810042618]\n",
      "average precision kNN 3 con PCA: 0.9732130175417202\n",
      "recalls kNN 3 con PCA: [0.9740953518442665, 0.9771286416161333, 0.9684582854230465, 0.9713128504077831, 0.9736776402081052]\n",
      "average accuracy kNN 3 con PCA: 0.972934553899867\n"
     ]
    }
   ],
   "source": [
    "print(\"accuracies kNN 3 con PCA:\", analisis2.accuracy())\n",
    "print(\"average accuracy kNN 3 con PCA:\", analisis2.average_accuracy())\n",
    "print(\"precisions kNN 3 con PCA:\", analisis2.precision())\n",
    "print(\"average precision kNN 3 con PCA:\", analisis2.average_precision())\n",
    "print(\"recalls kNN 3 con PCA:\", analisis2.recall())\n",
    "print(\"average accuracy kNN 3 con PCA:\", analisis2.average_recall())"
   ]
  },
  {
   "cell_type": "code",
   "execution_count": null,
   "metadata": {},
   "outputs": [],
   "source": []
  }
 ],
 "metadata": {
  "kernelspec": {
   "display_name": "Python 3",
   "language": "python",
   "name": "python3"
  },
  "language_info": {
   "codemirror_mode": {
    "name": "ipython",
    "version": 3
   },
   "file_extension": ".py",
   "mimetype": "text/x-python",
   "name": "python",
   "nbconvert_exporter": "python",
   "pygments_lexer": "ipython3",
   "version": "3.7.9"
  }
 },
 "nbformat": 4,
 "nbformat_minor": 2
}
