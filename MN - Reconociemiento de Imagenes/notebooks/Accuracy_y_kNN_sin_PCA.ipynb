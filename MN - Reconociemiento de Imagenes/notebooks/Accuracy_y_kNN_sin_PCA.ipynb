{
 "cells": [
  {
   "cell_type": "code",
   "execution_count": 1,
   "metadata": {},
   "outputs": [
    {
     "name": "stdout",
     "output_type": "stream",
     "text": [
      "-- The C compiler identification is GNU 9.3.0\n",
      "-- The CXX compiler identification is GNU 9.3.0\n",
      "-- Detecting C compiler ABI info\n",
      "-- Detecting C compiler ABI info - done\n",
      "-- Check for working C compiler: /usr/bin/cc - skipped\n",
      "-- Detecting C compile features\n",
      "-- Detecting C compile features - done\n",
      "-- Detecting CXX compiler ABI info\n",
      "-- Detecting CXX compiler ABI info - done\n",
      "-- Check for working CXX compiler: /usr/bin/c++ - skipped\n",
      "-- Detecting CXX compile features\n",
      "-- Detecting CXX compile features - done\n",
      "-- Found PythonInterp: /home/fede/anaconda3/envs/MN/bin/python (found version \"3.7.9\") \n",
      "-- Found PythonLibs: /home/fede/anaconda3/envs/MN/lib/libpython3.7m.so\n",
      "-- pybind11 v2.2.4\n",
      "-- Performing Test HAS_FLTO\n",
      "-- Performing Test HAS_FLTO - Success\n",
      "-- LTO enabled\n",
      "-- Configuring done\n",
      "-- Generating done\n",
      "-- Build files have been written to: /home/fede/Documents/Facultad/MN/metodos-numericos-grupo-4/tp2/build\n",
      "Scanning dependencies of target tp2\n",
      "[ 10%] Building CXX object CMakeFiles/tp2.dir/src/main.cpp.o\n",
      "[ 20%] Building CXX object CMakeFiles/tp2.dir/src/knn.cpp.o\n",
      "[ 30%] Building CXX object CMakeFiles/tp2.dir/src/pca.cpp.o\n",
      "[ 40%] Building CXX object CMakeFiles/tp2.dir/src/eigen.cpp.o\n",
      "[ 50%] Linking CXX executable tp2\n",
      "[ 50%] Built target tp2\n",
      "Scanning dependencies of target metnum\n",
      "[ 60%] Building CXX object CMakeFiles/metnum.dir/src/metnum.cpp.o\n",
      "[ 70%] Building CXX object CMakeFiles/metnum.dir/src/knn.cpp.o\n",
      "[ 80%] Building CXX object CMakeFiles/metnum.dir/src/pca.cpp.o\n",
      "[ 90%] Building CXX object CMakeFiles/metnum.dir/src/eigen.cpp.o\n",
      "[100%] Linking CXX shared module metnum.cpython-37m-x86_64-linux-gnu.so\n",
      "[100%] Built target metnum\n",
      "Install the project...\n",
      "-- Install configuration: \"Release\"\n",
      "-- Installing: /home/fede/Documents/Facultad/MN/metodos-numericos-grupo-4/tp2/notebooks/metnum.cpython-37m-x86_64-linux-gnu.so\n"
     ]
    },
    {
     "name": "stderr",
     "output_type": "stream",
     "text": [
      "mkdir: cannot create directory ‘build’: File exists\n",
      "Release mode\n",
      "CMAKE_INSTALL_PREFIX=/home/fede/Documents/Facultad/MN/metodos-numericos-grupo-4/tp2\n"
     ]
    }
   ],
   "source": [
    "%%script bash\n",
    "cd .. && mkdir build\n",
    "cd build/ && rm -rf *\n",
    "cmake \\\n",
    "  -DPYTHON_EXECUTABLE=\"$(which python)\" \\\n",
    "  -DCMAKE_BUILD_TYPE=Release ..\n",
    "make install"
   ]
  },
  {
   "cell_type": "code",
   "execution_count": 2,
   "metadata": {},
   "outputs": [
    {
     "name": "stdout",
     "output_type": "stream",
     "text": [
      "/home/fede/Documents/Facultad/MN/metodos-numericos-grupo-4/tp2/notebooks\n",
      "Python 3.7.9\n"
     ]
    }
   ],
   "source": [
    "!pwd\n",
    "!python --version\n",
    "import metnum"
   ]
  },
  {
   "cell_type": "code",
   "execution_count": 3,
   "metadata": {},
   "outputs": [],
   "source": [
    "%load_ext autoreload\n",
    "%autoreload 2\n",
    "import pandas as pd\n",
    "import numpy as np\n",
    "from sklearn.metrics import accuracy_score\n",
    "from tqdm import tqdm\n",
    "from sklearn.neighbors import KNeighborsClassifier\n",
    "\n",
    "df_train = pd.read_csv(\"../data/train.csv\")"
   ]
  },
  {
   "cell_type": "code",
   "execution_count": 4,
   "metadata": {},
   "outputs": [
    {
     "data": {
      "text/plain": [
       "((42000, 784), (42000, 1))"
      ]
     },
     "execution_count": 4,
     "metadata": {},
     "output_type": "execute_result"
    }
   ],
   "source": [
    "# Uso values para mandar todo a arrays de numpy\n",
    "# ACA SE DEBE REDUCIR EL DATASET EN CASO DE QUERER EXPERIMENTAR CON MENOS MUESTRAS.\n",
    "#df_train = df_train[:5000]\n",
    "X = df_train[df_train.columns[1:]].values\n",
    "y = df_train[\"label\"].values.reshape(-1, 1)\n",
    "\n",
    "X.shape, y.shape"
   ]
  },
  {
   "cell_type": "code",
   "execution_count": 5,
   "metadata": {},
   "outputs": [
    {
     "name": "stderr",
     "output_type": "stream",
     "text": [
      "100%|██████████| 19/19 [59:10<00:00, 186.87s/it] "
     ]
    },
    {
     "name": "stdout",
     "output_type": "stream",
     "text": [
      "CPU times: user 59min 23s, sys: 17.6 s, total: 59min 40s\n",
      "Wall time: 59min 10s\n"
     ]
    },
    {
     "name": "stderr",
     "output_type": "stream",
     "text": [
      "\n"
     ]
    }
   ],
   "source": [
    "%%time\n",
    "# PRUEBAS ACCURACY PARA ALGUNA PROPORCION TRAIN/TEST   (70/30,___80/20___,90/10)\n",
    "accuracies1 = np.zeros(19)\n",
    "limit = int(0.8 * X.shape[0])\n",
    "X_train, y_train = X[:limit], y[:limit]\n",
    "X_val, y_val = X[limit:], y[limit:]\n",
    "assert len(X_train) == len(y_train)\n",
    "assert len(X_val) == len(y_val)\n",
    "\n",
    "\n",
    "for i in tqdm(range (1,20)):\n",
    "    clf = metnum.KNNClassifier(i)\n",
    "    clf.fit(X_train, y_train)\n",
    "    y_pred = clf.predict(X_val)\n",
    "    acc = accuracy_score(y_val, y_pred)\n",
    "    accuracies1[i-1] = acc\n",
    "#print(\"Accuracy: {}\".format(accuracies))"
   ]
  },
  {
   "cell_type": "code",
   "execution_count": 6,
   "metadata": {},
   "outputs": [
    {
     "ename": "NameError",
     "evalue": "name 'accuracies1' is not defined",
     "output_type": "error",
     "traceback": [
      "\u001b[0;31m---------------------------------------------------------------------------\u001b[0m",
      "\u001b[0;31mNameError\u001b[0m                                 Traceback (most recent call last)",
      "\u001b[0;32m<ipython-input-6-8764efb853d3>\u001b[0m in \u001b[0;36m<module>\u001b[0;34m\u001b[0m\n\u001b[1;32m      1\u001b[0m \u001b[0;32mimport\u001b[0m \u001b[0mmatplotlib\u001b[0m\u001b[0;34m.\u001b[0m\u001b[0mpyplot\u001b[0m \u001b[0;32mas\u001b[0m \u001b[0mplt\u001b[0m\u001b[0;34m\u001b[0m\u001b[0;34m\u001b[0m\u001b[0m\n\u001b[1;32m      2\u001b[0m \u001b[0mx_scale\u001b[0m \u001b[0;34m=\u001b[0m \u001b[0mnp\u001b[0m\u001b[0;34m.\u001b[0m\u001b[0marray\u001b[0m\u001b[0;34m(\u001b[0m\u001b[0;34m[\u001b[0m\u001b[0;36m1\u001b[0m\u001b[0;34m,\u001b[0m\u001b[0;36m2\u001b[0m\u001b[0;34m,\u001b[0m\u001b[0;36m3\u001b[0m\u001b[0;34m,\u001b[0m\u001b[0;36m4\u001b[0m\u001b[0;34m,\u001b[0m\u001b[0;36m5\u001b[0m\u001b[0;34m,\u001b[0m\u001b[0;36m6\u001b[0m\u001b[0;34m,\u001b[0m\u001b[0;36m7\u001b[0m\u001b[0;34m,\u001b[0m\u001b[0;36m8\u001b[0m\u001b[0;34m,\u001b[0m\u001b[0;36m9\u001b[0m\u001b[0;34m,\u001b[0m\u001b[0;36m10\u001b[0m\u001b[0;34m,\u001b[0m\u001b[0;36m11\u001b[0m\u001b[0;34m,\u001b[0m\u001b[0;36m12\u001b[0m\u001b[0;34m,\u001b[0m\u001b[0;36m13\u001b[0m\u001b[0;34m,\u001b[0m\u001b[0;36m14\u001b[0m\u001b[0;34m,\u001b[0m\u001b[0;36m15\u001b[0m\u001b[0;34m,\u001b[0m\u001b[0;36m16\u001b[0m\u001b[0;34m,\u001b[0m\u001b[0;36m17\u001b[0m\u001b[0;34m,\u001b[0m\u001b[0;36m18\u001b[0m\u001b[0;34m,\u001b[0m\u001b[0;36m19\u001b[0m\u001b[0;34m]\u001b[0m\u001b[0;34m)\u001b[0m\u001b[0;34m\u001b[0m\u001b[0;34m\u001b[0m\u001b[0m\n\u001b[0;32m----> 3\u001b[0;31m \u001b[0mplt\u001b[0m\u001b[0;34m.\u001b[0m\u001b[0mplot\u001b[0m\u001b[0;34m(\u001b[0m\u001b[0mx_scale\u001b[0m\u001b[0;34m,\u001b[0m \u001b[0maccuracies1\u001b[0m\u001b[0;34m[\u001b[0m\u001b[0;34m:\u001b[0m\u001b[0;36m19\u001b[0m\u001b[0;34m]\u001b[0m\u001b[0;34m)\u001b[0m\u001b[0;34m\u001b[0m\u001b[0;34m\u001b[0m\u001b[0m\n\u001b[0m\u001b[1;32m      4\u001b[0m \u001b[0mplt\u001b[0m\u001b[0;34m.\u001b[0m\u001b[0mplot\u001b[0m\u001b[0;34m(\u001b[0m\u001b[0mx_scale\u001b[0m\u001b[0;34m,\u001b[0m \u001b[0maccuracies2\u001b[0m\u001b[0;34m[\u001b[0m\u001b[0;34m:\u001b[0m\u001b[0;36m19\u001b[0m\u001b[0;34m]\u001b[0m\u001b[0;34m)\u001b[0m\u001b[0;34m\u001b[0m\u001b[0;34m\u001b[0m\u001b[0m\n\u001b[1;32m      5\u001b[0m \u001b[0mplt\u001b[0m\u001b[0;34m.\u001b[0m\u001b[0mplot\u001b[0m\u001b[0;34m(\u001b[0m\u001b[0mx_scale\u001b[0m\u001b[0;34m,\u001b[0m \u001b[0maccuracies3\u001b[0m\u001b[0;34m[\u001b[0m\u001b[0;34m:\u001b[0m\u001b[0;36m19\u001b[0m\u001b[0;34m]\u001b[0m\u001b[0;34m)\u001b[0m\u001b[0;34m\u001b[0m\u001b[0;34m\u001b[0m\u001b[0m\n",
      "\u001b[0;31mNameError\u001b[0m: name 'accuracies1' is not defined"
     ]
    }
   ],
   "source": [
    "# GRAFICOS DE KNN OPTIMO\n",
    "import matplotlib.pyplot as plt\n",
    "x_scale = np.array([1,2,3,4,5,6,7,8,9,10,11,12,13,14,15,16,17,18,19])\n",
    "plt.plot(x_scale, accuracies1[:19])\n",
    "plt.plot(x_scale, accuracies2[:19])\n",
    "plt.plot(x_scale, accuracies3[:19])\n",
    "plt.legend([\"70/30\",\"80/20\",\"90/10\"])\n",
    "plt.xlabel(\"K\")\n",
    "plt.ylabel(\"Accuracy\")\n",
    "plt.title(\"\")"
   ]
  },
  {
   "cell_type": "code",
   "execution_count": 10,
   "metadata": {
    "scrolled": true
   },
   "outputs": [
    {
     "data": {
      "text/plain": [
       "[<matplotlib.lines.Line2D at 0x7fc8c45a2bd0>]"
      ]
     },
     "execution_count": 10,
     "metadata": {},
     "output_type": "execute_result"
    },
    {
     "data": {
      "image/png": "[encoded data removed]",
      "text/plain": [
       "<Figure size 432x288 with 1 Axes>"
      ]
     },
     "metadata": {
      "needs_background": "light"
     },
     "output_type": "display_data"
    }
   ],
   "source": [
    "plt.plot(x_scale,accuracies5[:19])"
   ]
  },
  {
   "cell_type": "code",
   "execution_count": 36,
   "metadata": {},
   "outputs": [],
   "source": [
    "from sklearn.metrics import confusion_matrix\n",
    "import seaborn as sns\n",
    "from matplotlib.colors import LogNorm"
   ]
  },
  {
   "cell_type": "code",
   "execution_count": 37,
   "metadata": {},
   "outputs": [
    {
     "data": {
      "text/plain": [
       "array([[848,   1,   0,   0,   0,   1,   2,   0,   0,   0],\n",
       "       [  0, 947,   1,   1,   1,   0,   0,   0,   0,   0],\n",
       "       [  8,   7, 769,   3,   0,   2,   0,   9,   2,   1],\n",
       "       [  0,   3,   6, 857,   0,   6,   0,   3,   4,   3],\n",
       "       [  0,   8,   0,   0, 781,   0,   5,   0,   0,  17],\n",
       "       [  3,   0,   0,  16,   0, 715,   7,   0,   2,   4],\n",
       "       [  5,   2,   0,   0,   0,   1, 823,   0,   0,   0],\n",
       "       [  0,   9,   3,   0,   1,   0,   0, 864,   0,   7],\n",
       "       [  3,  19,   5,  12,   5,  10,   1,   2, 738,   7],\n",
       "       [  6,   2,   2,   8,   7,   2,   0,  11,   0, 802]])"
      ]
     },
     "execution_count": 37,
     "metadata": {},
     "output_type": "execute_result"
    }
   ],
   "source": [
    "confusion_matrix(y_val,y_pred)"
   ]
  },
  {
   "cell_type": "code",
   "execution_count": 50,
   "metadata": {},
   "outputs": [
    {
     "data": {
      "text/plain": [
       "Text(33.0, 0.5, 'Prediction')"
      ]
     },
     "execution_count": 50,
     "metadata": {},
     "output_type": "execute_result"
    },
    {
     "data": {
      "image/png": "[encoded data removed]",
      "text/plain": [
       "<Figure size 432x288 with 2 Axes>"
      ]
     },
     "metadata": {
      "needs_background": "light"
     },
     "output_type": "display_data"
    }
   ],
   "source": [
    "sns.heatmap(confusion_matrix(y_val,y_pred), cmap = \"Blues\", norm = LogNorm(), annot= True, fmt = 'd', linewidths = '1')\n",
    "plt.xlabel('Real value')\n",
    "plt.ylabel('Prediction')"
   ]
  },
  {
   "cell_type": "code",
   "execution_count": 153,
   "metadata": {},
   "outputs": [],
   "source": [
    "import seaborn as sns\n",
    "import matplotlib.pyplot as plt\n",
    "# GRAFICANDO CON K-FOLD"
   ]
  },
  {
   "cell_type": "code",
   "execution_count": 154,
   "metadata": {},
   "outputs": [
    {
     "data": {
      "text/html": [
       "<div>\n",
       "<style scoped>\n",
       "    .dataframe tbody tr th:only-of-type {\n",
       "        vertical-align: middle;\n",
       "    }\n",
       "\n",
       "    .dataframe tbody tr th {\n",
       "        vertical-align: top;\n",
       "    }\n",
       "\n",
       "    .dataframe thead th {\n",
       "        text-align: right;\n",
       "    }\n",
       "</style>\n",
       "<table border=\"1\" class=\"dataframe\">\n",
       "  <thead>\n",
       "    <tr style=\"text-align: right;\">\n",
       "      <th></th>\n",
       "      <th>Accuracy</th>\n",
       "      <th>Test fold number</th>\n",
       "      <th>Type</th>\n",
       "      <th>Size</th>\n",
       "    </tr>\n",
       "  </thead>\n",
       "  <tbody>\n",
       "    <tr>\n",
       "      <th>0</th>\n",
       "      <td>0.970000</td>\n",
       "      <td>1</td>\n",
       "      <td>knn</td>\n",
       "      <td>single fold</td>\n",
       "    </tr>\n",
       "    <tr>\n",
       "      <th>1</th>\n",
       "      <td>0.967262</td>\n",
       "      <td>2</td>\n",
       "      <td>knn</td>\n",
       "      <td>single fold</td>\n",
       "    </tr>\n",
       "    <tr>\n",
       "      <th>2</th>\n",
       "      <td>0.962738</td>\n",
       "      <td>3</td>\n",
       "      <td>knn</td>\n",
       "      <td>single fold</td>\n",
       "    </tr>\n",
       "    <tr>\n",
       "      <th>3</th>\n",
       "      <td>0.963810</td>\n",
       "      <td>4</td>\n",
       "      <td>knn</td>\n",
       "      <td>single fold</td>\n",
       "    </tr>\n",
       "    <tr>\n",
       "      <th>4</th>\n",
       "      <td>0.969524</td>\n",
       "      <td>5</td>\n",
       "      <td>knn</td>\n",
       "      <td>single fold</td>\n",
       "    </tr>\n",
       "    <tr>\n",
       "      <th>5</th>\n",
       "      <td>0.974405</td>\n",
       "      <td>1</td>\n",
       "      <td>pca</td>\n",
       "      <td>single fold</td>\n",
       "    </tr>\n",
       "    <tr>\n",
       "      <th>6</th>\n",
       "      <td>0.977381</td>\n",
       "      <td>2</td>\n",
       "      <td>pca</td>\n",
       "      <td>single fold</td>\n",
       "    </tr>\n",
       "    <tr>\n",
       "      <th>7</th>\n",
       "      <td>0.968452</td>\n",
       "      <td>3</td>\n",
       "      <td>pca</td>\n",
       "      <td>single fold</td>\n",
       "    </tr>\n",
       "    <tr>\n",
       "      <th>8</th>\n",
       "      <td>0.971548</td>\n",
       "      <td>4</td>\n",
       "      <td>pca</td>\n",
       "      <td>single fold</td>\n",
       "    </tr>\n",
       "    <tr>\n",
       "      <th>9</th>\n",
       "      <td>0.974048</td>\n",
       "      <td>5</td>\n",
       "      <td>pca</td>\n",
       "      <td>single fold</td>\n",
       "    </tr>\n",
       "    <tr>\n",
       "      <th>10</th>\n",
       "      <td>0.966667</td>\n",
       "      <td>0</td>\n",
       "      <td>knn</td>\n",
       "      <td>average</td>\n",
       "    </tr>\n",
       "    <tr>\n",
       "      <th>11</th>\n",
       "      <td>0.973167</td>\n",
       "      <td>0</td>\n",
       "      <td>pca</td>\n",
       "      <td>average</td>\n",
       "    </tr>\n",
       "  </tbody>\n",
       "</table>\n",
       "</div>"
      ],
      "text/plain": [
       "    Accuracy  Test fold number Type         Size\n",
       "0   0.970000                 1  knn  single fold\n",
       "1   0.967262                 2  knn  single fold\n",
       "2   0.962738                 3  knn  single fold\n",
       "3   0.963810                 4  knn  single fold\n",
       "4   0.969524                 5  knn  single fold\n",
       "5   0.974405                 1  pca  single fold\n",
       "6   0.977381                 2  pca  single fold\n",
       "7   0.968452                 3  pca  single fold\n",
       "8   0.971548                 4  pca  single fold\n",
       "9   0.974048                 5  pca  single fold\n",
       "10  0.966667                 0  knn      average\n",
       "11  0.973167                 0  pca      average"
      ]
     },
     "execution_count": 154,
     "metadata": {},
     "output_type": "execute_result"
    }
   ],
   "source": [
    "d = {'Accuracy': [0.97, 0.9672619047619048, 0.9627380952380953, 0.9638095238095238, 0.9695238095238096, 0.9744047619047619, 0.9773809523809524, 0.968452380952381, 0.971547619047619, 0.974047619047619,0.9666666666666668,0.9731666666666665],\n",
    "     'Test fold number': [1,2,3,4,5,1,2,3,4,5,0,0], 'Type': ['knn','knn','knn','knn','knn','pca','pca','pca','pca','pca','knn','pca'],\n",
    "    'Size': ['single fold','single fold','single fold','single fold','single fold','single fold','single fold','single fold','single fold','single fold','average','average'],}\n",
    "\n",
    "df = pd.DataFrame(data=d)\n",
    "df"
   ]
  },
  {
   "cell_type": "code",
   "execution_count": 157,
   "metadata": {},
   "outputs": [
    {
     "data": {
      "text/plain": [
       "<seaborn.axisgrid.FacetGrid at 0x7f04195bbfd0>"
      ]
     },
     "execution_count": 157,
     "metadata": {},
     "output_type": "execute_result"
    },
    {
     "data": {
      "image/png": "[encoded data removed]",
      "text/plain": [
       "<Figure size 447.875x360 with 1 Axes>"
      ]
     },
     "metadata": {},
     "output_type": "display_data"
    }
   ],
   "source": [
    "sns.set_style(\"whitegrid\", {'grid.linestyle': '-'})\n",
    "sns.relplot(\n",
    "    data=df, x=\"Test fold number\", y=\"Accuracy\",\n",
    "    kind=\"scatter\", style = 'Type', hue = 'Type', legend = 'auto', size = 'Size'\n",
    ")"
   ]
  },
  {
   "cell_type": "code",
   "execution_count": 124,
   "metadata": {},
   "outputs": [
    {
     "data": {
      "text/plain": [
       "1.0070483492024236"
      ]
     },
     "execution_count": 124,
     "metadata": {},
     "output_type": "execute_result"
    }
   ],
   "source": [
    "df['Accuracy'][4] / df['Accuracy'][2]"
   ]
  },
  {
   "cell_type": "code",
   "execution_count": null,
   "metadata": {},
   "outputs": [],
   "source": []
  }
 ],
 "metadata": {
  "kernelspec": {
   "display_name": "Python 3",
   "language": "python",
   "name": "python3"
  },
  "language_info": {
   "codemirror_mode": {
    "name": "ipython",
    "version": 3
   },
   "file_extension": ".py",
   "mimetype": "text/x-python",
   "name": "python",
   "nbconvert_exporter": "python",
   "pygments_lexer": "ipython3",
   "version": "3.7.9"
  }
 },
 "nbformat": 4,
 "nbformat_minor": 4
}
