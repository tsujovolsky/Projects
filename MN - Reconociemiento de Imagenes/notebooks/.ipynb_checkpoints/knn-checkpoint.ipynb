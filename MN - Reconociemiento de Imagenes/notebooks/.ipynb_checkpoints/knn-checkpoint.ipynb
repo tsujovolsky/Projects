{
 "cells": [
  {
   "cell_type": "markdown",
   "metadata": {},
   "source": [
    "# Reconocimiento de dígitos con KNN\n",
    "\n"
   ]
  },
  {
   "cell_type": "markdown",
   "metadata": {},
   "source": [
    "Definir los path al ejecutable de python 3.6 y sus librerías,\n",
    "de acuerdo al virtual env que estén corriendo."
   ]
  },
  {
   "cell_type": "code",
   "execution_count": 28,
   "metadata": {
    "ExecuteTime": {
     "end_time": "2020-10-30T18:26:50.214686Z",
     "start_time": "2020-10-30T18:26:28.565140Z"
    },
    "scrolled": false
   },
   "outputs": [
    {
     "name": "stdout",
     "output_type": "stream",
     "text": [
      "-- The C compiler identification is GNU 9.3.0\n",
      "-- The CXX compiler identification is GNU 9.3.0\n",
      "-- Check for working C compiler: /usr/bin/cc\n",
      "-- Check for working C compiler: /usr/bin/cc -- works\n",
      "-- Detecting C compiler ABI info\n",
      "-- Detecting C compiler ABI info - done\n",
      "-- Detecting C compile features\n",
      "-- Detecting C compile features - done\n",
      "-- Check for working CXX compiler: /usr/bin/c++\n",
      "-- Check for working CXX compiler: /usr/bin/c++ -- works\n",
      "-- Detecting CXX compiler ABI info\n",
      "-- Detecting CXX compiler ABI info - done\n",
      "-- Detecting CXX compile features\n",
      "-- Detecting CXX compile features - done\n",
      "-- Found PythonInterp: /home/ezequiel/.virtualenvs/metodos-tp2/bin/python (found version \"3.8.5\") \n",
      "-- Found PythonLibs: /usr/lib/x86_64-linux-gnu/libpython3.8.so\n",
      "-- pybind11 v2.2.4\n",
      "-- Performing Test HAS_FLTO\n",
      "-- Performing Test HAS_FLTO - Success\n",
      "-- LTO enabled\n",
      "-- Configuring done\n",
      "-- Generating done\n",
      "-- Build files have been written to: /media/ezequiel/Datos/GIT/metodos-numericos-grupo-4/tp2/build\n",
      "Scanning dependencies of target tp2\n",
      "[ 10%] Building CXX object CMakeFiles/tp2.dir/src/main.cpp.o\n",
      "[ 20%] Building CXX object CMakeFiles/tp2.dir/src/knn.cpp.o\n",
      "[ 30%] Building CXX object CMakeFiles/tp2.dir/src/pca.cpp.o\n",
      "[ 40%] Building CXX object CMakeFiles/tp2.dir/src/eigen.cpp.o\n",
      "[ 50%] Linking CXX executable tp2\n",
      "[ 50%] Built target tp2\n",
      "Scanning dependencies of target metnum\n",
      "[ 60%] Building CXX object CMakeFiles/metnum.dir/src/metnum.cpp.o\n",
      "[ 70%] Building CXX object CMakeFiles/metnum.dir/src/knn.cpp.o\n",
      "[ 80%] Building CXX object CMakeFiles/metnum.dir/src/pca.cpp.o\n",
      "[ 90%] Building CXX object CMakeFiles/metnum.dir/src/eigen.cpp.o\n",
      "[100%] Linking CXX shared module metnum.cpython-38-x86_64-linux-gnu.so\n",
      "[100%] Built target metnum\n",
      "Install the project...\n",
      "-- Install configuration: \"Release\"\n",
      "-- Installing: /media/ezequiel/Datos/GIT/metodos-numericos-grupo-4/tp2/notebooks/metnum.cpython-38-x86_64-linux-gnu.so\n"
     ]
    },
    {
     "name": "stderr",
     "output_type": "stream",
     "text": [
      "mkdir: no se puede crear el directorio «build»: El archivo ya existe\n",
      "Release mode\n",
      "CMAKE_INSTALL_PREFIX=/media/ezequiel/Datos/GIT/metodos-numericos-grupo-4/tp2\n",
      "/media/ezequiel/Datos/GIT/metodos-numericos-grupo-4/tp2/src/main.cpp: In function ‘int main(int, char**)’:\n",
      "/media/ezequiel/Datos/GIT/metodos-numericos-grupo-4/tp2/src/main.cpp:50:7: warning: variable ‘method_id’ set but not used [-Wunused-but-set-variable]\n",
      "   50 |   int method_id;\n",
      "      |       ^~~~~~~~~\n",
      "/media/ezequiel/Datos/GIT/metodos-numericos-grupo-4/tp2/src/main.cpp:56:7: warning: variable ‘knn_neighbors’ set but not used [-Wunused-but-set-variable]\n",
      "   56 |   int knn_neighbors = 10;\n",
      "      |       ^~~~~~~~~~~~~\n",
      "/media/ezequiel/Datos/GIT/metodos-numericos-grupo-4/tp2/src/main.cpp:57:7: warning: variable ‘pca_components’ set but not used [-Wunused-but-set-variable]\n",
      "   57 |   int pca_components = 10;\n",
      "      |       ^~~~~~~~~~~~~~\n",
      "/media/ezequiel/Datos/GIT/metodos-numericos-grupo-4/tp2/src/main.cpp:58:7: warning: variable ‘kfold_partitions’ set but not used [-Wunused-but-set-variable]\n",
      "   58 |   int kfold_partitions = 5;\n",
      "      |       ^~~~~~~~~~~~~~~~\n"
     ]
    }
   ],
   "source": [
    "%%script bash\n",
    "cd .. && mkdir build\n",
    "cd build/ && rm -rf *\n",
    "cmake \\\n",
    "  -DPYTHON_EXECUTABLE=\"$(which python)\" \\\n",
    "  -DCMAKE_BUILD_TYPE=Release ..\n",
    "make install"
   ]
  },
  {
   "cell_type": "code",
   "execution_count": 2,
   "metadata": {
    "ExecuteTime": {
     "end_time": "2020-10-25T23:16:53.631768Z",
     "start_time": "2020-10-25T23:16:53.292730Z"
    }
   },
   "outputs": [
    {
     "name": "stdout",
     "output_type": "stream",
     "text": [
      "/home/orga2/Materias/MetNum/metodos-numericos-grupo-4/tp2/notebooks\n",
      "Python 3.7.9\n"
     ]
    }
   ],
   "source": [
    "# Verifico la correcta instalación. Si no falla el import está OK\n",
    "!pwd\n",
    "!python --version\n",
    "import metnum\n"
   ]
  },
  {
   "cell_type": "markdown",
   "metadata": {},
   "source": [
    "## Explorando los datos"
   ]
  },
  {
   "cell_type": "code",
   "execution_count": 3,
   "metadata": {
    "ExecuteTime": {
     "end_time": "2020-10-25T23:17:00.015644Z",
     "start_time": "2020-10-25T23:16:58.907510Z"
    }
   },
   "outputs": [],
   "source": [
    "%load_ext autoreload\n",
    "%autoreload 2\n",
    "import pandas as pd\n",
    "\n",
    "df_train = pd.read_csv(\"../data/train.csv\")"
   ]
  },
  {
   "cell_type": "markdown",
   "metadata": {},
   "source": [
    "Es un csv, con columnas por cada pixel"
   ]
  },
  {
   "cell_type": "code",
   "execution_count": 4,
   "metadata": {
    "ExecuteTime": {
     "end_time": "2020-10-25T23:17:02.727017Z",
     "start_time": "2020-10-25T23:17:02.704579Z"
    }
   },
   "outputs": [
    {
     "data": {
      "text/html": [
       "<div>\n",
       "<style scoped>\n",
       "    .dataframe tbody tr th:only-of-type {\n",
       "        vertical-align: middle;\n",
       "    }\n",
       "\n",
       "    .dataframe tbody tr th {\n",
       "        vertical-align: top;\n",
       "    }\n",
       "\n",
       "    .dataframe thead th {\n",
       "        text-align: right;\n",
       "    }\n",
       "</style>\n",
       "<table border=\"1\" class=\"dataframe\">\n",
       "  <thead>\n",
       "    <tr style=\"text-align: right;\">\n",
       "      <th></th>\n",
       "      <th>label</th>\n",
       "      <th>pixel0</th>\n",
       "      <th>pixel1</th>\n",
       "      <th>pixel2</th>\n",
       "      <th>pixel3</th>\n",
       "      <th>pixel4</th>\n",
       "      <th>pixel5</th>\n",
       "      <th>pixel6</th>\n",
       "      <th>pixel7</th>\n",
       "      <th>pixel8</th>\n",
       "      <th>...</th>\n",
       "      <th>pixel774</th>\n",
       "      <th>pixel775</th>\n",
       "      <th>pixel776</th>\n",
       "      <th>pixel777</th>\n",
       "      <th>pixel778</th>\n",
       "      <th>pixel779</th>\n",
       "      <th>pixel780</th>\n",
       "      <th>pixel781</th>\n",
       "      <th>pixel782</th>\n",
       "      <th>pixel783</th>\n",
       "    </tr>\n",
       "  </thead>\n",
       "  <tbody>\n",
       "    <tr>\n",
       "      <th>0</th>\n",
       "      <td>1</td>\n",
       "      <td>0</td>\n",
       "      <td>0</td>\n",
       "      <td>0</td>\n",
       "      <td>0</td>\n",
       "      <td>0</td>\n",
       "      <td>0</td>\n",
       "      <td>0</td>\n",
       "      <td>0</td>\n",
       "      <td>0</td>\n",
       "      <td>...</td>\n",
       "      <td>0</td>\n",
       "      <td>0</td>\n",
       "      <td>0</td>\n",
       "      <td>0</td>\n",
       "      <td>0</td>\n",
       "      <td>0</td>\n",
       "      <td>0</td>\n",
       "      <td>0</td>\n",
       "      <td>0</td>\n",
       "      <td>0</td>\n",
       "    </tr>\n",
       "    <tr>\n",
       "      <th>1</th>\n",
       "      <td>0</td>\n",
       "      <td>0</td>\n",
       "      <td>0</td>\n",
       "      <td>0</td>\n",
       "      <td>0</td>\n",
       "      <td>0</td>\n",
       "      <td>0</td>\n",
       "      <td>0</td>\n",
       "      <td>0</td>\n",
       "      <td>0</td>\n",
       "      <td>...</td>\n",
       "      <td>0</td>\n",
       "      <td>0</td>\n",
       "      <td>0</td>\n",
       "      <td>0</td>\n",
       "      <td>0</td>\n",
       "      <td>0</td>\n",
       "      <td>0</td>\n",
       "      <td>0</td>\n",
       "      <td>0</td>\n",
       "      <td>0</td>\n",
       "    </tr>\n",
       "    <tr>\n",
       "      <th>2</th>\n",
       "      <td>1</td>\n",
       "      <td>0</td>\n",
       "      <td>0</td>\n",
       "      <td>0</td>\n",
       "      <td>0</td>\n",
       "      <td>0</td>\n",
       "      <td>0</td>\n",
       "      <td>0</td>\n",
       "      <td>0</td>\n",
       "      <td>0</td>\n",
       "      <td>...</td>\n",
       "      <td>0</td>\n",
       "      <td>0</td>\n",
       "      <td>0</td>\n",
       "      <td>0</td>\n",
       "      <td>0</td>\n",
       "      <td>0</td>\n",
       "      <td>0</td>\n",
       "      <td>0</td>\n",
       "      <td>0</td>\n",
       "      <td>0</td>\n",
       "    </tr>\n",
       "    <tr>\n",
       "      <th>3</th>\n",
       "      <td>4</td>\n",
       "      <td>0</td>\n",
       "      <td>0</td>\n",
       "      <td>0</td>\n",
       "      <td>0</td>\n",
       "      <td>0</td>\n",
       "      <td>0</td>\n",
       "      <td>0</td>\n",
       "      <td>0</td>\n",
       "      <td>0</td>\n",
       "      <td>...</td>\n",
       "      <td>0</td>\n",
       "      <td>0</td>\n",
       "      <td>0</td>\n",
       "      <td>0</td>\n",
       "      <td>0</td>\n",
       "      <td>0</td>\n",
       "      <td>0</td>\n",
       "      <td>0</td>\n",
       "      <td>0</td>\n",
       "      <td>0</td>\n",
       "    </tr>\n",
       "    <tr>\n",
       "      <th>4</th>\n",
       "      <td>0</td>\n",
       "      <td>0</td>\n",
       "      <td>0</td>\n",
       "      <td>0</td>\n",
       "      <td>0</td>\n",
       "      <td>0</td>\n",
       "      <td>0</td>\n",
       "      <td>0</td>\n",
       "      <td>0</td>\n",
       "      <td>0</td>\n",
       "      <td>...</td>\n",
       "      <td>0</td>\n",
       "      <td>0</td>\n",
       "      <td>0</td>\n",
       "      <td>0</td>\n",
       "      <td>0</td>\n",
       "      <td>0</td>\n",
       "      <td>0</td>\n",
       "      <td>0</td>\n",
       "      <td>0</td>\n",
       "      <td>0</td>\n",
       "    </tr>\n",
       "    <tr>\n",
       "      <th>5</th>\n",
       "      <td>0</td>\n",
       "      <td>0</td>\n",
       "      <td>0</td>\n",
       "      <td>0</td>\n",
       "      <td>0</td>\n",
       "      <td>0</td>\n",
       "      <td>0</td>\n",
       "      <td>0</td>\n",
       "      <td>0</td>\n",
       "      <td>0</td>\n",
       "      <td>...</td>\n",
       "      <td>0</td>\n",
       "      <td>0</td>\n",
       "      <td>0</td>\n",
       "      <td>0</td>\n",
       "      <td>0</td>\n",
       "      <td>0</td>\n",
       "      <td>0</td>\n",
       "      <td>0</td>\n",
       "      <td>0</td>\n",
       "      <td>0</td>\n",
       "    </tr>\n",
       "    <tr>\n",
       "      <th>6</th>\n",
       "      <td>7</td>\n",
       "      <td>0</td>\n",
       "      <td>0</td>\n",
       "      <td>0</td>\n",
       "      <td>0</td>\n",
       "      <td>0</td>\n",
       "      <td>0</td>\n",
       "      <td>0</td>\n",
       "      <td>0</td>\n",
       "      <td>0</td>\n",
       "      <td>...</td>\n",
       "      <td>0</td>\n",
       "      <td>0</td>\n",
       "      <td>0</td>\n",
       "      <td>0</td>\n",
       "      <td>0</td>\n",
       "      <td>0</td>\n",
       "      <td>0</td>\n",
       "      <td>0</td>\n",
       "      <td>0</td>\n",
       "      <td>0</td>\n",
       "    </tr>\n",
       "    <tr>\n",
       "      <th>7</th>\n",
       "      <td>3</td>\n",
       "      <td>0</td>\n",
       "      <td>0</td>\n",
       "      <td>0</td>\n",
       "      <td>0</td>\n",
       "      <td>0</td>\n",
       "      <td>0</td>\n",
       "      <td>0</td>\n",
       "      <td>0</td>\n",
       "      <td>0</td>\n",
       "      <td>...</td>\n",
       "      <td>0</td>\n",
       "      <td>0</td>\n",
       "      <td>0</td>\n",
       "      <td>0</td>\n",
       "      <td>0</td>\n",
       "      <td>0</td>\n",
       "      <td>0</td>\n",
       "      <td>0</td>\n",
       "      <td>0</td>\n",
       "      <td>0</td>\n",
       "    </tr>\n",
       "    <tr>\n",
       "      <th>8</th>\n",
       "      <td>5</td>\n",
       "      <td>0</td>\n",
       "      <td>0</td>\n",
       "      <td>0</td>\n",
       "      <td>0</td>\n",
       "      <td>0</td>\n",
       "      <td>0</td>\n",
       "      <td>0</td>\n",
       "      <td>0</td>\n",
       "      <td>0</td>\n",
       "      <td>...</td>\n",
       "      <td>0</td>\n",
       "      <td>0</td>\n",
       "      <td>0</td>\n",
       "      <td>0</td>\n",
       "      <td>0</td>\n",
       "      <td>0</td>\n",
       "      <td>0</td>\n",
       "      <td>0</td>\n",
       "      <td>0</td>\n",
       "      <td>0</td>\n",
       "    </tr>\n",
       "    <tr>\n",
       "      <th>9</th>\n",
       "      <td>3</td>\n",
       "      <td>0</td>\n",
       "      <td>0</td>\n",
       "      <td>0</td>\n",
       "      <td>0</td>\n",
       "      <td>0</td>\n",
       "      <td>0</td>\n",
       "      <td>0</td>\n",
       "      <td>0</td>\n",
       "      <td>0</td>\n",
       "      <td>...</td>\n",
       "      <td>0</td>\n",
       "      <td>0</td>\n",
       "      <td>0</td>\n",
       "      <td>0</td>\n",
       "      <td>0</td>\n",
       "      <td>0</td>\n",
       "      <td>0</td>\n",
       "      <td>0</td>\n",
       "      <td>0</td>\n",
       "      <td>0</td>\n",
       "    </tr>\n",
       "  </tbody>\n",
       "</table>\n",
       "<p>10 rows × 785 columns</p>\n",
       "</div>"
      ],
      "text/plain": [
       "   label  pixel0  pixel1  pixel2  pixel3  pixel4  pixel5  pixel6  pixel7  \\\n",
       "0      1       0       0       0       0       0       0       0       0   \n",
       "1      0       0       0       0       0       0       0       0       0   \n",
       "2      1       0       0       0       0       0       0       0       0   \n",
       "3      4       0       0       0       0       0       0       0       0   \n",
       "4      0       0       0       0       0       0       0       0       0   \n",
       "5      0       0       0       0       0       0       0       0       0   \n",
       "6      7       0       0       0       0       0       0       0       0   \n",
       "7      3       0       0       0       0       0       0       0       0   \n",
       "8      5       0       0       0       0       0       0       0       0   \n",
       "9      3       0       0       0       0       0       0       0       0   \n",
       "\n",
       "   pixel8  ...  pixel774  pixel775  pixel776  pixel777  pixel778  pixel779  \\\n",
       "0       0  ...         0         0         0         0         0         0   \n",
       "1       0  ...         0         0         0         0         0         0   \n",
       "2       0  ...         0         0         0         0         0         0   \n",
       "3       0  ...         0         0         0         0         0         0   \n",
       "4       0  ...         0         0         0         0         0         0   \n",
       "5       0  ...         0         0         0         0         0         0   \n",
       "6       0  ...         0         0         0         0         0         0   \n",
       "7       0  ...         0         0         0         0         0         0   \n",
       "8       0  ...         0         0         0         0         0         0   \n",
       "9       0  ...         0         0         0         0         0         0   \n",
       "\n",
       "   pixel780  pixel781  pixel782  pixel783  \n",
       "0         0         0         0         0  \n",
       "1         0         0         0         0  \n",
       "2         0         0         0         0  \n",
       "3         0         0         0         0  \n",
       "4         0         0         0         0  \n",
       "5         0         0         0         0  \n",
       "6         0         0         0         0  \n",
       "7         0         0         0         0  \n",
       "8         0         0         0         0  \n",
       "9         0         0         0         0  \n",
       "\n",
       "[10 rows x 785 columns]"
      ]
     },
     "execution_count": 4,
     "metadata": {},
     "output_type": "execute_result"
    }
   ],
   "source": [
    "df_train[:10]"
   ]
  },
  {
   "cell_type": "markdown",
   "metadata": {},
   "source": [
    "### Reducir el dataset\n",
    "\n",
    "Ya que el dataset es grande, me quedo con una porción de éste\n",
    "\n",
    "**<font color=red>ESTO ES SOLO PARA HACER PRUEBAS. CUANDO REPORTEN LOS RESULTADOS, USAR DATASET COMPLETO</font>**"
   ]
  },
  {
   "cell_type": "code",
   "execution_count": 5,
   "metadata": {
    "ExecuteTime": {
     "end_time": "2020-10-25T23:17:06.076384Z",
     "start_time": "2020-10-25T23:17:06.064413Z"
    }
   },
   "outputs": [],
   "source": [
    "df_train = df_train[:5000]"
   ]
  },
  {
   "cell_type": "markdown",
   "metadata": {},
   "source": [
    "En el primer caracter está el dígito a reconocer. Llamamos a esto `y_train`"
   ]
  },
  {
   "cell_type": "code",
   "execution_count": 6,
   "metadata": {
    "ExecuteTime": {
     "end_time": "2020-10-25T23:17:07.310029Z",
     "start_time": "2020-10-25T23:17:07.288264Z"
    }
   },
   "outputs": [
    {
     "data": {
      "text/plain": [
       "((5000, 784), (5000, 1))"
      ]
     },
     "execution_count": 6,
     "metadata": {},
     "output_type": "execute_result"
    }
   ],
   "source": [
    "# Uso values para mandar todo a arrays de numpy\n",
    "X = df_train[df_train.columns[1:]].values\n",
    "y = df_train[\"label\"].values.reshape(-1, 1)\n",
    "\n",
    "X.shape, y.shape"
   ]
  },
  {
   "cell_type": "markdown",
   "metadata": {},
   "source": [
    "Convierto el resto a matrices de 28 x 28"
   ]
  },
  {
   "cell_type": "markdown",
   "metadata": {},
   "source": [
    "A ver cómo se ven..."
   ]
  },
  {
   "cell_type": "code",
   "execution_count": 7,
   "metadata": {
    "ExecuteTime": {
     "end_time": "2020-10-25T23:17:08.510606Z",
     "start_time": "2020-10-25T23:17:08.425955Z"
    }
   },
   "outputs": [
    {
     "name": "stdout",
     "output_type": "stream",
     "text": [
      "Supuestamente es un 1\n"
     ]
    },
    {
     "data": {
      "text/plain": [
       "<matplotlib.image.AxesImage at 0x7f0001930150>"
      ]
     },
     "execution_count": 7,
     "metadata": {},
     "output_type": "execute_result"
    },
    {
     "data": {
      "image/png": "[encoded data removed]",
      "text/plain": [
       "<Figure size 432x288 with 1 Axes>"
      ]
     },
     "metadata": {
      "needs_background": "light"
     },
     "output_type": "display_data"
    }
   ],
   "source": [
    "import matplotlib.pyplot as plt\n",
    "\n",
    "num = 2\n",
    "\n",
    "print(f\"Supuestamente es un {int(y[num])}\")\n",
    "\n",
    "img = X[num].reshape(28, 28)\n",
    "plt.imshow(img, cmap=\"Greys\")\n"
   ]
  },
  {
   "cell_type": "markdown",
   "metadata": {},
   "source": [
    "### Balance de clases\n",
    "\n",
    "¿Tenemos la misma cantidad de cada número?"
   ]
  },
  {
   "cell_type": "code",
   "execution_count": 8,
   "metadata": {
    "ExecuteTime": {
     "end_time": "2020-10-25T23:17:10.546277Z",
     "start_time": "2020-10-25T23:17:10.533294Z"
    }
   },
   "outputs": [
    {
     "data": {
      "text/plain": [
       "1    0.1116\n",
       "2    0.1090\n",
       "6    0.1032\n",
       "7    0.1012\n",
       "0    0.0988\n",
       "3    0.0960\n",
       "9    0.0956\n",
       "8    0.0954\n",
       "4    0.0954\n",
       "5    0.0938\n",
       "Name: label, dtype: float64"
      ]
     },
     "execution_count": 8,
     "metadata": {},
     "output_type": "execute_result"
    }
   ],
   "source": [
    "df_train[\"label\"].value_counts(normalize=True)"
   ]
  },
  {
   "cell_type": "markdown",
   "metadata": {},
   "source": [
    "No: tenemos más 1 que 5, pero tampoco está tan desbalanceado"
   ]
  },
  {
   "cell_type": "markdown",
   "metadata": {},
   "source": [
    "### Conjunto de development"
   ]
  },
  {
   "cell_type": "code",
   "execution_count": 9,
   "metadata": {
    "ExecuteTime": {
     "end_time": "2020-10-25T23:17:11.695042Z",
     "start_time": "2020-10-25T23:17:11.681010Z"
    }
   },
   "outputs": [
    {
     "name": "stdout",
     "output_type": "stream",
     "text": [
      "Ahora tengo 4000 instancias de entrenamiento y 1000 de validación\n"
     ]
    }
   ],
   "source": [
    "limit = int(0.8 * X.shape[0]) \n",
    "\n",
    "X_train, y_train = X[:limit], y[:limit]\n",
    "X_val, y_val = X[limit:], y[limit:]\n",
    "\n",
    "assert len(X_train) == len(y_train)\n",
    "assert len(X_val) == len(y_val)\n",
    "\n",
    "print(f\"Ahora tengo {len(X_train)} instancias de entrenamiento y {len(X_val)} de validación\")\n"
   ]
  },
  {
   "cell_type": "code",
   "execution_count": 10,
   "metadata": {
    "ExecuteTime": {
     "end_time": "2020-10-25T23:17:14.444304Z",
     "start_time": "2020-10-25T23:17:14.420223Z"
    },
    "scrolled": true
   },
   "outputs": [],
   "source": [
    "from sklearn.neighbors import KNeighborsClassifier\n",
    "\n",
    "# Acá pueden cambiar el clasificador nuestro por el de sklearn!\n",
    "\n",
    "clf = metnum.KNNClassifier(100)\n",
    "#clf = KNeighborsClassifier(100)\n",
    "\n",
    "clf.fit(X_train, y_train)\n"
   ]
  },
  {
   "cell_type": "code",
   "execution_count": 11,
   "metadata": {
    "ExecuteTime": {
     "end_time": "2020-10-25T23:07:01.399203Z",
     "start_time": "2020-10-25T23:06:59.710108Z"
    },
    "scrolled": true
   },
   "outputs": [
    {
     "name": "stdout",
     "output_type": "stream",
     "text": [
      "Accuracy: 0.832\n",
      "CPU times: user 2.79 s, sys: 18.7 ms, total: 2.81 s\n",
      "Wall time: 2.81 s\n"
     ]
    },
    {
     "data": {
      "text/plain": [
       "array([8., 8., 0., 5., 0., 0., 3., 8., 3., 1., 2., 5., 6., 3., 0., 6., 6.,\n",
       "       1., 5., 9., 6., 0., 2., 4., 1., 1., 2., 7., 8., 5., 1., 9., 9., 4.,\n",
       "       1., 2., 7., 5., 6., 1., 8., 0., 9., 5., 5., 2., 5., 1., 4., 0., 2.,\n",
       "       9., 8., 3., 2., 1., 2., 4., 6., 2., 3., 3., 2., 1., 6., 1., 5., 5.,\n",
       "       6., 1., 8., 9., 4., 1., 7., 8., 1., 2., 0., 4., 5., 1., 1., 3., 4.,\n",
       "       2., 1., 7., 9., 4., 7., 5., 1., 9., 9., 0., 4., 3., 6., 9., 5., 8.,\n",
       "       6., 0., 4., 3., 5., 1., 0., 9., 1., 4., 9., 7., 4., 5., 6., 2., 2.,\n",
       "       0., 8., 4., 1., 9., 9., 5., 9., 6., 9., 0., 4., 0., 9., 0., 6., 6.,\n",
       "       8., 4., 8., 7., 3., 1., 4., 9., 0., 1., 7., 0., 7., 7., 3., 3., 2.,\n",
       "       4., 0., 9., 6., 1., 9., 2., 1., 6., 6., 0., 2., 1., 7., 8., 0., 6.,\n",
       "       5., 6., 1., 5., 1., 0., 6., 6., 9., 7., 7., 1., 0., 8., 6., 3., 8.,\n",
       "       5., 6., 0., 9., 7., 3., 1., 0., 4., 3., 9., 2., 5., 7., 1., 1., 3.,\n",
       "       1., 7., 5., 6., 4., 4., 2., 6., 9., 6., 1., 9., 1., 2., 1., 9., 6.,\n",
       "       8., 1., 4., 2., 0., 9., 4., 0., 1., 1., 9., 9., 1., 9., 6., 4., 9.,\n",
       "       0., 3., 9., 3., 6., 1., 2., 0., 9., 1., 8., 5., 6., 0., 6., 3., 7.,\n",
       "       3., 4., 4., 6., 7., 1., 3., 6., 1., 1., 1., 0., 3., 5., 6., 0., 4.,\n",
       "       6., 3., 3., 9., 2., 3., 9., 3., 9., 3., 4., 0., 6., 3., 4., 6., 9.,\n",
       "       2., 7., 9., 7., 5., 1., 9., 6., 4., 0., 6., 0., 3., 0., 9., 1., 5.,\n",
       "       1., 1., 7., 2., 1., 6., 2., 3., 6., 9., 1., 6., 5., 9., 5., 9., 2.,\n",
       "       1., 2., 0., 1., 3., 1., 2., 1., 6., 0., 9., 4., 9., 9., 4., 9., 7.,\n",
       "       2., 3., 3., 6., 8., 1., 2., 1., 6., 5., 6., 7., 8., 1., 4., 8., 2.,\n",
       "       6., 8., 0., 1., 3., 6., 7., 5., 1., 6., 1., 6., 1., 3., 0., 9., 0.,\n",
       "       4., 1., 3., 0., 1., 1., 2., 4., 3., 6., 2., 5., 5., 0., 2., 4., 0.,\n",
       "       2., 8., 3., 1., 1., 0., 4., 7., 4., 6., 4., 1., 1., 8., 3., 8., 3.,\n",
       "       7., 9., 4., 1., 3., 6., 6., 3., 4., 9., 2., 1., 1., 6., 5., 1., 1.,\n",
       "       7., 3., 7., 3., 7., 8., 8., 0., 7., 0., 1., 6., 8., 9., 1., 1., 7.,\n",
       "       9., 8., 7., 9., 3., 7., 3., 7., 3., 1., 1., 1., 2., 7., 1., 9., 1.,\n",
       "       0., 8., 2., 3., 4., 0., 6., 7., 9., 4., 7., 0., 9., 2., 3., 3., 0.,\n",
       "       4., 3., 6., 3., 8., 1., 5., 1., 1., 1., 6., 3., 3., 8., 1., 8., 0.,\n",
       "       0., 0., 1., 4., 2., 2., 4., 6., 3., 9., 8., 7., 4., 5., 7., 6., 1.,\n",
       "       1., 3., 3., 9., 1., 5., 6., 4., 4., 4., 6., 3., 0., 1., 3., 8., 2.,\n",
       "       0., 0., 1., 8., 1., 7., 4., 7., 4., 3., 2., 1., 8., 5., 1., 8., 5.,\n",
       "       7., 5., 0., 5., 4., 1., 4., 0., 9., 1., 5., 3., 1., 7., 7., 2., 0.,\n",
       "       7., 5., 9., 0., 1., 9., 9., 1., 2., 3., 6., 9., 0., 1., 2., 7., 1.,\n",
       "       9., 1., 5., 7., 7., 5., 3., 3., 2., 7., 8., 1., 7., 7., 7., 6., 7.,\n",
       "       6., 5., 2., 9., 4., 5., 2., 1., 7., 2., 1., 6., 5., 0., 4., 2., 6.,\n",
       "       8., 2., 1., 9., 1., 0., 2., 3., 6., 0., 1., 4., 0., 1., 8., 7., 4.,\n",
       "       0., 1., 5., 3., 9., 9., 2., 9., 2., 3., 3., 7., 3., 1., 3., 1., 8.,\n",
       "       1., 5., 7., 8., 0., 0., 4., 3., 0., 6., 9., 8., 8., 9., 9., 9., 3.,\n",
       "       8., 1., 7., 2., 9., 9., 5., 0., 8., 9., 6., 9., 1., 9., 9., 9., 1.,\n",
       "       9., 8., 5., 2., 7., 1., 8., 1., 3., 5., 8., 8., 6., 3., 6., 5., 9.,\n",
       "       1., 8., 1., 4., 9., 9., 0., 1., 2., 9., 6., 8., 1., 8., 4., 2., 7.,\n",
       "       3., 3., 1., 0., 6., 6., 1., 1., 0., 2., 6., 6., 7., 3., 2., 0., 5.,\n",
       "       5., 9., 5., 8., 9., 7., 7., 1., 4., 9., 1., 2., 8., 9., 9., 3., 3.,\n",
       "       1., 6., 1., 1., 4., 1., 8., 6., 2., 7., 2., 2., 6., 0., 1., 9., 7.,\n",
       "       6., 4., 2., 6., 3., 3., 9., 2., 9., 1., 5., 9., 3., 7., 6., 3., 3.,\n",
       "       6., 0., 9., 0., 1., 1., 7., 7., 6., 8., 5., 1., 1., 6., 6., 1., 3.,\n",
       "       8., 8., 1., 7., 1., 7., 1., 7., 1., 3., 6., 0., 1., 0., 3., 6., 8.,\n",
       "       0., 1., 9., 5., 7., 9., 5., 9., 3., 8., 3., 6., 6., 7., 5., 1., 0.,\n",
       "       2., 5., 1., 6., 2., 7., 4., 9., 3., 7., 1., 3., 9., 1., 6., 0., 4.,\n",
       "       4., 8., 6., 5., 5., 3., 1., 3., 7., 1., 4., 7., 2., 8., 1., 2., 8.,\n",
       "       1., 4., 8., 9., 1., 4., 1., 0., 5., 9., 9., 1., 7., 1., 5., 9., 1.,\n",
       "       6., 3., 7., 6., 0., 9., 5., 3., 6., 5., 6., 6., 1., 9., 2., 1., 3.,\n",
       "       2., 3., 3., 3., 5., 7., 2., 0., 4., 3., 1., 2., 9., 6., 3., 7., 0.,\n",
       "       1., 1., 3., 6., 4., 8., 9., 3., 5., 7., 1., 0., 1., 1., 8., 1., 5.,\n",
       "       6., 5., 2., 3., 2., 5., 1., 8., 3., 9., 6., 4., 1., 1., 8., 3., 6.,\n",
       "       8., 1., 7., 9., 8., 0., 3., 9., 9., 4., 2., 0., 3., 0., 3., 9., 7.,\n",
       "       8., 7., 1., 1., 8., 3., 8., 3., 6., 7., 7., 1., 6., 7., 0., 7., 1.,\n",
       "       3., 0., 2., 6., 7., 1., 4., 0., 7., 2., 5., 5., 7., 9.])"
      ]
     },
     "execution_count": 11,
     "metadata": {},
     "output_type": "execute_result"
    }
   ],
   "source": [
    "%%time\n",
    "from sklearn.metrics import accuracy_score\n",
    "y_pred = clf.predict(X_val)\n",
    "\n",
    "acc = accuracy_score(y_val, y_pred)\n",
    "print(\"Accuracy: {}\".format(acc))\n",
    "y_pred"
   ]
  },
  {
   "cell_type": "markdown",
   "metadata": {},
   "source": [
    "### Testeamos el método de la potencia"
   ]
  },
  {
   "cell_type": "code",
   "execution_count": 12,
   "metadata": {
    "ExecuteTime": {
     "end_time": "2020-10-25T23:07:01.410678Z",
     "start_time": "2020-10-25T23:07:01.400121Z"
    }
   },
   "outputs": [
    {
     "name": "stdout",
     "output_type": "stream",
     "text": [
      "4.999999999999995 [-0.60000002  0.40000004  0.39999998  0.39999998  0.39999998]\n"
     ]
    }
   ],
   "source": [
    "import numpy as np\n",
    "\n",
    "D = np.diag([5.0, 4.0, 3.0, 2.0, 1.0])\n",
    "\n",
    "v = np.ones((D.shape[0], 1))\n",
    "\n",
    "v = v / np.linalg.norm(v)\n",
    "\n",
    "# Matriz de Householder\n",
    "B = np.eye(D.shape[0]) - 2 * (v @ v.T)\n",
    "\n",
    "# Matriz ya diagonalizada\n",
    "M = B.T @ D @ B\n",
    "\n",
    "l, v = metnum.power_iteration(M, 10000, 1e-16)\n",
    "\n",
    "assert(np.allclose(M@v, l*v))\n",
    "print(l ,v)"
   ]
  },
  {
   "cell_type": "markdown",
   "metadata": {},
   "source": [
    "### Testeamos el método de deflación"
   ]
  },
  {
   "cell_type": "code",
   "execution_count": 13,
   "metadata": {
    "ExecuteTime": {
     "end_time": "2020-10-25T23:07:01.424913Z",
     "start_time": "2020-10-25T23:07:01.411929Z"
    }
   },
   "outputs": [],
   "source": [
    "import itertools \n",
    "\n",
    "eigenvalues, eigenvectors = metnum.get_first_eigenvalues(M, 5, 10000, 1e-16)\n",
    "\n",
    "for index in range(0,5):\n",
    "    eigenvector = eigenvectors[:,index]\n",
    "    eigenvalue = eigenvalues[index]\n",
    "    assert(np.allclose(M@eigenvector, eigenvalue*eigenvector))"
   ]
  },
  {
   "cell_type": "markdown",
   "metadata": {},
   "source": [
    "### Testeamos PCA"
   ]
  },
  {
   "cell_type": "code",
   "execution_count": 14,
   "metadata": {
    "ExecuteTime": {
     "end_time": "2020-10-25T23:35:15.557265Z",
     "start_time": "2020-10-25T23:34:57.790747Z"
    }
   },
   "outputs": [],
   "source": [
    "import metnum\n",
    "from sklearn.metrics import accuracy_score\n",
    "\n",
    "pca = metnum.PCA(100)\n",
    "pca.fit(X_train)\n",
    "X = pca.transform(X_train)\n",
    "Y = pca.transform(X_val)\n",
    "\n",
    "clf = metnum.KNNClassifier(10)\n",
    "\n",
    "clf.fit(X, y_train)"
   ]
  },
  {
   "cell_type": "code",
   "execution_count": 15,
   "metadata": {
    "ExecuteTime": {
     "end_time": "2020-10-25T23:35:24.216547Z",
     "start_time": "2020-10-25T23:35:23.928647Z"
    }
   },
   "outputs": [
    {
     "name": "stdout",
     "output_type": "stream",
     "text": [
      "Accuracy: 0.93\n",
      "CPU times: user 579 ms, sys: 0 ns, total: 579 ms\n",
      "Wall time: 599 ms\n"
     ]
    },
    {
     "data": {
      "text/plain": [
       "array([8., 8., 0., 5., 0., 0., 3., 8., 3., 1., 2., 5., 6., 3., 0., 6., 6.,\n",
       "       1., 3., 9., 6., 0., 2., 4., 6., 3., 2., 7., 8., 3., 2., 9., 9., 4.,\n",
       "       1., 2., 7., 5., 6., 1., 3., 0., 9., 5., 5., 2., 5., 7., 4., 0., 2.,\n",
       "       9., 8., 3., 2., 1., 2., 4., 6., 2., 3., 3., 2., 1., 6., 1., 5., 5.,\n",
       "       6., 1., 8., 4., 9., 4., 7., 8., 1., 2., 0., 4., 5., 8., 2., 3., 4.,\n",
       "       2., 1., 7., 9., 4., 7., 5., 1., 5., 7., 0., 4., 8., 6., 8., 5., 8.,\n",
       "       6., 0., 4., 3., 6., 2., 0., 9., 1., 4., 9., 7., 9., 5., 6., 2., 2.,\n",
       "       0., 8., 4., 1., 9., 9., 5., 9., 6., 9., 0., 4., 0., 9., 0., 6., 6.,\n",
       "       8., 4., 8., 7., 3., 1., 4., 4., 0., 1., 7., 0., 7., 7., 3., 3., 2.,\n",
       "       4., 0., 9., 6., 1., 9., 2., 8., 6., 6., 0., 2., 1., 7., 8., 0., 6.,\n",
       "       5., 6., 1., 5., 1., 0., 6., 6., 9., 7., 7., 1., 0., 8., 6., 3., 8.,\n",
       "       5., 6., 0., 7., 7., 3., 2., 3., 4., 5., 9., 2., 5., 7., 7., 1., 8.,\n",
       "       1., 7., 5., 6., 4., 4., 2., 6., 9., 6., 1., 9., 1., 2., 1., 9., 6.,\n",
       "       8., 1., 4., 2., 0., 9., 4., 0., 1., 1., 9., 9., 1., 9., 6., 2., 4.,\n",
       "       0., 3., 4., 3., 2., 5., 2., 0., 9., 1., 8., 5., 6., 0., 6., 3., 7.,\n",
       "       3., 4., 4., 6., 7., 1., 3., 6., 1., 5., 1., 0., 3., 5., 6., 0., 4.,\n",
       "       6., 3., 3., 9., 2., 3., 9., 3., 9., 3., 4., 2., 6., 3., 4., 6., 9.,\n",
       "       2., 7., 9., 7., 5., 1., 9., 6., 4., 0., 6., 0., 3., 0., 9., 9., 5.,\n",
       "       1., 1., 7., 2., 1., 6., 2., 3., 0., 9., 1., 6., 5., 9., 5., 9., 2.,\n",
       "       1., 2., 2., 2., 3., 1., 2., 2., 6., 0., 9., 4., 9., 9., 4., 9., 7.,\n",
       "       2., 3., 3., 6., 8., 1., 2., 3., 6., 5., 6., 7., 8., 8., 4., 8., 2.,\n",
       "       6., 8., 0., 1., 3., 6., 7., 5., 1., 6., 1., 6., 1., 3., 0., 9., 0.,\n",
       "       4., 1., 3., 0., 2., 1., 2., 4., 3., 6., 2., 5., 5., 0., 2., 4., 0.,\n",
       "       2., 8., 3., 1., 1., 0., 4., 7., 4., 0., 4., 1., 1., 8., 3., 8., 5.,\n",
       "       7., 7., 4., 4., 3., 6., 6., 5., 4., 9., 2., 5., 1., 6., 5., 1., 5.,\n",
       "       7., 3., 9., 5., 7., 8., 8., 0., 7., 0., 1., 6., 8., 9., 1., 1., 7.,\n",
       "       9., 5., 7., 9., 3., 7., 3., 7., 3., 1., 1., 1., 2., 7., 1., 9., 1.,\n",
       "       0., 8., 2., 3., 4., 0., 6., 7., 9., 4., 7., 0., 9., 2., 5., 3., 0.,\n",
       "       4., 3., 6., 3., 8., 6., 5., 3., 6., 1., 6., 3., 3., 2., 8., 2., 0.,\n",
       "       0., 0., 2., 4., 2., 2., 4., 6., 3., 9., 8., 7., 4., 5., 7., 0., 1.,\n",
       "       1., 3., 3., 9., 6., 5., 6., 4., 4., 4., 6., 3., 0., 1., 5., 8., 2.,\n",
       "       0., 0., 1., 8., 1., 7., 4., 7., 4., 3., 2., 1., 2., 5., 2., 8., 5.,\n",
       "       7., 5., 0., 5., 4., 2., 4., 0., 9., 1., 5., 3., 1., 7., 7., 2., 0.,\n",
       "       7., 5., 9., 0., 1., 9., 9., 7., 2., 3., 6., 9., 0., 1., 2., 7., 1.,\n",
       "       9., 1., 5., 7., 7., 5., 3., 5., 2., 7., 8., 1., 7., 7., 7., 6., 7.,\n",
       "       6., 5., 2., 9., 4., 5., 2., 8., 7., 2., 1., 6., 5., 0., 4., 2., 6.,\n",
       "       8., 2., 1., 9., 2., 0., 2., 3., 6., 0., 2., 4., 0., 5., 8., 7., 4.,\n",
       "       0., 1., 5., 5., 9., 9., 2., 9., 2., 3., 3., 7., 3., 1., 3., 1., 8.,\n",
       "       1., 5., 7., 8., 0., 0., 4., 3., 0., 6., 9., 8., 8., 4., 4., 9., 3.,\n",
       "       8., 1., 7., 3., 9., 9., 5., 2., 8., 9., 6., 4., 1., 4., 9., 9., 1.,\n",
       "       9., 8., 5., 2., 7., 1., 8., 1., 3., 5., 8., 8., 6., 3., 6., 5., 5.,\n",
       "       1., 8., 9., 4., 9., 9., 0., 2., 2., 9., 6., 8., 1., 2., 4., 2., 9.,\n",
       "       3., 5., 1., 0., 6., 6., 8., 1., 0., 2., 6., 6., 4., 3., 2., 0., 5.,\n",
       "       5., 9., 0., 8., 9., 7., 7., 3., 4., 9., 1., 2., 8., 9., 4., 3., 3.,\n",
       "       3., 6., 1., 1., 4., 1., 8., 6., 2., 7., 2., 2., 6., 0., 1., 9., 7.,\n",
       "       6., 4., 2., 6., 3., 3., 9., 2., 9., 1., 5., 5., 3., 7., 6., 5., 3.,\n",
       "       6., 0., 9., 0., 1., 1., 7., 7., 0., 8., 5., 1., 1., 6., 6., 1., 3.,\n",
       "       8., 8., 1., 7., 1., 7., 9., 7., 1., 3., 6., 5., 5., 0., 3., 6., 8.,\n",
       "       0., 1., 3., 8., 7., 9., 5., 9., 3., 8., 3., 6., 8., 7., 5., 1., 0.,\n",
       "       2., 5., 1., 6., 2., 7., 4., 4., 3., 7., 7., 3., 9., 1., 6., 0., 4.,\n",
       "       4., 8., 6., 5., 0., 8., 1., 3., 2., 8., 4., 7., 2., 8., 9., 2., 8.,\n",
       "       2., 4., 8., 9., 1., 4., 1., 0., 5., 9., 8., 1., 7., 1., 5., 9., 1.,\n",
       "       6., 3., 7., 6., 0., 9., 5., 3., 6., 5., 6., 6., 1., 9., 2., 1., 3.,\n",
       "       2., 3., 8., 3., 5., 7., 2., 0., 4., 3., 1., 2., 9., 6., 3., 7., 0.,\n",
       "       8., 1., 3., 6., 4., 8., 4., 3., 5., 7., 1., 0., 1., 1., 8., 1., 5.,\n",
       "       6., 5., 2., 3., 2., 5., 1., 3., 3., 4., 6., 4., 1., 1., 8., 3., 6.,\n",
       "       8., 1., 9., 4., 8., 0., 3., 4., 9., 4., 2., 0., 3., 0., 8., 9., 7.,\n",
       "       8., 7., 1., 7., 8., 3., 8., 3., 6., 7., 7., 3., 6., 7., 0., 9., 1.,\n",
       "       3., 0., 2., 8., 7., 1., 4., 0., 7., 2., 5., 5., 7., 9.])"
      ]
     },
     "execution_count": 15,
     "metadata": {},
     "output_type": "execute_result"
    }
   ],
   "source": [
    "%%time\n",
    "y_pred = clf.predict(Y)\n",
    "\n",
    "acc = accuracy_score(y_val, y_pred)\n",
    "print(\"Accuracy: {}\".format(acc))\n",
    "y_pred"
   ]
  },
  {
   "cell_type": "code",
   "execution_count": 19,
   "metadata": {},
   "outputs": [],
   "source": [
    "from KFoldXValidation import KfoldXvalidation\n",
    "analisis = KfoldXvalidation(df_train, 5, 10, 0)"
   ]
  },
  {
   "cell_type": "code",
   "execution_count": 21,
   "metadata": {},
   "outputs": [
    {
     "name": "stdout",
     "output_type": "stream",
     "text": [
      "[0.92, 0.912, 0.929, 0.917, 0.925]\n"
     ]
    }
   ],
   "source": [
    "print(analisis.accuracy())"
   ]
  },
  {
   "cell_type": "code",
   "execution_count": null,
   "metadata": {},
   "outputs": [],
   "source": []
  }
 ],
 "metadata": {
  "kernelspec": {
   "display_name": "Python 3",
   "language": "python",
   "name": "python3"
  },
  "language_info": {
   "codemirror_mode": {
    "name": "ipython",
    "version": 3
   },
   "file_extension": ".py",
   "mimetype": "text/x-python",
   "name": "python",
   "nbconvert_exporter": "python",
   "pygments_lexer": "ipython3",
   "version": "3.8.5"
  }
 },
 "nbformat": 4,
 "nbformat_minor": 2
}
